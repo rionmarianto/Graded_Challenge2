{
  "nbformat": 4,
  "nbformat_minor": 0,
  "metadata": {
    "colab": {
      "provenance": [],
      "toc_visible": true
    },
    "kernelspec": {
      "name": "python3",
      "display_name": "Python 3"
    },
    "language_info": {
      "name": "python"
    }
  },
  "cells": [
    {
      "cell_type": "markdown",
      "source": [
        "#Problem 1 (Stats)"
      ],
      "metadata": {
        "id": "AZpIlPvMrOg1"
      }
    },
    {
      "cell_type": "markdown",
      "source": [
        "#1. library"
      ],
      "metadata": {
        "id": "jfmyfOEYu5ES"
      }
    },
    {
      "cell_type": "code",
      "execution_count": 1,
      "metadata": {
        "id": "m3MycjQ6rQDJ"
      },
      "outputs": [],
      "source": [
        "import pandas as pd \n",
        "import numpy as np\n",
        "import matplotlib\n",
        "import matplotlib.pyplot as plt\n",
        "import seaborn as sns\n",
        "from scipy import stats\n",
        "import seaborn as sns"
      ]
    },
    {
      "cell_type": "markdown",
      "source": [
        "librari yang digunakan pada tugas kali ini adalah yang diatas"
      ],
      "metadata": {
        "id": "YLDEV7jUNWlf"
      }
    },
    {
      "cell_type": "code",
      "source": [
        "df = pd.read_csv('https://raw.githubusercontent.com/rionmarianto/file_tambahan/main/austin_waste_and_diversion.csv')"
      ],
      "metadata": {
        "id": "PjrZqSwGrgKM"
      },
      "execution_count": 2,
      "outputs": []
    },
    {
      "cell_type": "code",
      "source": [
        "df.head()"
      ],
      "metadata": {
        "colab": {
          "base_uri": "https://localhost:8080/",
          "height": 206
        },
        "id": "wcA_7vt3rqP4",
        "outputId": "34b32de4-b80e-4e38-c119-9cf65d5c4dbd"
      },
      "execution_count": 3,
      "outputs": [
        {
          "output_type": "execute_result",
          "data": {
            "text/plain": [
              "  report_date                       load_time load_type  load_weight  \\\n",
              "0  2021-07-08  2021-07-08 12:00:00.000000 UTC     TIRES       2260.0   \n",
              "1  2021-07-08  2021-07-08 11:00:00.000000 UTC     TIRES       1260.0   \n",
              "2  2021-07-08  2021-07-08 03:00:00.000000 UTC     TIRES        800.0   \n",
              "3  2021-05-01  2021-05-01 12:29:00.000000 UTC     TIRES        760.0   \n",
              "4  2021-07-03  2021-07-03 12:09:00.000000 UTC     TIRES       1400.0   \n",
              "\n",
              "  dropoff_site  \n",
              "0          MRF  \n",
              "1          MRF  \n",
              "2          MRF  \n",
              "3          MRF  \n",
              "4          MRF  "
            ],
            "text/html": [
              "\n",
              "  <div id=\"df-57e69294-0879-4418-8d03-a09b30ede6e0\">\n",
              "    <div class=\"colab-df-container\">\n",
              "      <div>\n",
              "<style scoped>\n",
              "    .dataframe tbody tr th:only-of-type {\n",
              "        vertical-align: middle;\n",
              "    }\n",
              "\n",
              "    .dataframe tbody tr th {\n",
              "        vertical-align: top;\n",
              "    }\n",
              "\n",
              "    .dataframe thead th {\n",
              "        text-align: right;\n",
              "    }\n",
              "</style>\n",
              "<table border=\"1\" class=\"dataframe\">\n",
              "  <thead>\n",
              "    <tr style=\"text-align: right;\">\n",
              "      <th></th>\n",
              "      <th>report_date</th>\n",
              "      <th>load_time</th>\n",
              "      <th>load_type</th>\n",
              "      <th>load_weight</th>\n",
              "      <th>dropoff_site</th>\n",
              "    </tr>\n",
              "  </thead>\n",
              "  <tbody>\n",
              "    <tr>\n",
              "      <th>0</th>\n",
              "      <td>2021-07-08</td>\n",
              "      <td>2021-07-08 12:00:00.000000 UTC</td>\n",
              "      <td>TIRES</td>\n",
              "      <td>2260.0</td>\n",
              "      <td>MRF</td>\n",
              "    </tr>\n",
              "    <tr>\n",
              "      <th>1</th>\n",
              "      <td>2021-07-08</td>\n",
              "      <td>2021-07-08 11:00:00.000000 UTC</td>\n",
              "      <td>TIRES</td>\n",
              "      <td>1260.0</td>\n",
              "      <td>MRF</td>\n",
              "    </tr>\n",
              "    <tr>\n",
              "      <th>2</th>\n",
              "      <td>2021-07-08</td>\n",
              "      <td>2021-07-08 03:00:00.000000 UTC</td>\n",
              "      <td>TIRES</td>\n",
              "      <td>800.0</td>\n",
              "      <td>MRF</td>\n",
              "    </tr>\n",
              "    <tr>\n",
              "      <th>3</th>\n",
              "      <td>2021-05-01</td>\n",
              "      <td>2021-05-01 12:29:00.000000 UTC</td>\n",
              "      <td>TIRES</td>\n",
              "      <td>760.0</td>\n",
              "      <td>MRF</td>\n",
              "    </tr>\n",
              "    <tr>\n",
              "      <th>4</th>\n",
              "      <td>2021-07-03</td>\n",
              "      <td>2021-07-03 12:09:00.000000 UTC</td>\n",
              "      <td>TIRES</td>\n",
              "      <td>1400.0</td>\n",
              "      <td>MRF</td>\n",
              "    </tr>\n",
              "  </tbody>\n",
              "</table>\n",
              "</div>\n",
              "      <button class=\"colab-df-convert\" onclick=\"convertToInteractive('df-57e69294-0879-4418-8d03-a09b30ede6e0')\"\n",
              "              title=\"Convert this dataframe to an interactive table.\"\n",
              "              style=\"display:none;\">\n",
              "        \n",
              "  <svg xmlns=\"http://www.w3.org/2000/svg\" height=\"24px\"viewBox=\"0 0 24 24\"\n",
              "       width=\"24px\">\n",
              "    <path d=\"M0 0h24v24H0V0z\" fill=\"none\"/>\n",
              "    <path d=\"M18.56 5.44l.94 2.06.94-2.06 2.06-.94-2.06-.94-.94-2.06-.94 2.06-2.06.94zm-11 1L8.5 8.5l.94-2.06 2.06-.94-2.06-.94L8.5 2.5l-.94 2.06-2.06.94zm10 10l.94 2.06.94-2.06 2.06-.94-2.06-.94-.94-2.06-.94 2.06-2.06.94z\"/><path d=\"M17.41 7.96l-1.37-1.37c-.4-.4-.92-.59-1.43-.59-.52 0-1.04.2-1.43.59L10.3 9.45l-7.72 7.72c-.78.78-.78 2.05 0 2.83L4 21.41c.39.39.9.59 1.41.59.51 0 1.02-.2 1.41-.59l7.78-7.78 2.81-2.81c.8-.78.8-2.07 0-2.86zM5.41 20L4 18.59l7.72-7.72 1.47 1.35L5.41 20z\"/>\n",
              "  </svg>\n",
              "      </button>\n",
              "      \n",
              "  <style>\n",
              "    .colab-df-container {\n",
              "      display:flex;\n",
              "      flex-wrap:wrap;\n",
              "      gap: 12px;\n",
              "    }\n",
              "\n",
              "    .colab-df-convert {\n",
              "      background-color: #E8F0FE;\n",
              "      border: none;\n",
              "      border-radius: 50%;\n",
              "      cursor: pointer;\n",
              "      display: none;\n",
              "      fill: #1967D2;\n",
              "      height: 32px;\n",
              "      padding: 0 0 0 0;\n",
              "      width: 32px;\n",
              "    }\n",
              "\n",
              "    .colab-df-convert:hover {\n",
              "      background-color: #E2EBFA;\n",
              "      box-shadow: 0px 1px 2px rgba(60, 64, 67, 0.3), 0px 1px 3px 1px rgba(60, 64, 67, 0.15);\n",
              "      fill: #174EA6;\n",
              "    }\n",
              "\n",
              "    [theme=dark] .colab-df-convert {\n",
              "      background-color: #3B4455;\n",
              "      fill: #D2E3FC;\n",
              "    }\n",
              "\n",
              "    [theme=dark] .colab-df-convert:hover {\n",
              "      background-color: #434B5C;\n",
              "      box-shadow: 0px 1px 3px 1px rgba(0, 0, 0, 0.15);\n",
              "      filter: drop-shadow(0px 1px 2px rgba(0, 0, 0, 0.3));\n",
              "      fill: #FFFFFF;\n",
              "    }\n",
              "  </style>\n",
              "\n",
              "      <script>\n",
              "        const buttonEl =\n",
              "          document.querySelector('#df-57e69294-0879-4418-8d03-a09b30ede6e0 button.colab-df-convert');\n",
              "        buttonEl.style.display =\n",
              "          google.colab.kernel.accessAllowed ? 'block' : 'none';\n",
              "\n",
              "        async function convertToInteractive(key) {\n",
              "          const element = document.querySelector('#df-57e69294-0879-4418-8d03-a09b30ede6e0');\n",
              "          const dataTable =\n",
              "            await google.colab.kernel.invokeFunction('convertToInteractive',\n",
              "                                                     [key], {});\n",
              "          if (!dataTable) return;\n",
              "\n",
              "          const docLinkHtml = 'Like what you see? Visit the ' +\n",
              "            '<a target=\"_blank\" href=https://colab.research.google.com/notebooks/data_table.ipynb>data table notebook</a>'\n",
              "            + ' to learn more about interactive tables.';\n",
              "          element.innerHTML = '';\n",
              "          dataTable['output_type'] = 'display_data';\n",
              "          await google.colab.output.renderOutput(dataTable, element);\n",
              "          const docLink = document.createElement('div');\n",
              "          docLink.innerHTML = docLinkHtml;\n",
              "          element.appendChild(docLink);\n",
              "        }\n",
              "      </script>\n",
              "    </div>\n",
              "  </div>\n",
              "  "
            ]
          },
          "metadata": {},
          "execution_count": 3
        }
      ]
    },
    {
      "cell_type": "code",
      "source": [
        "df.tail()"
      ],
      "metadata": {
        "colab": {
          "base_uri": "https://localhost:8080/",
          "height": 206
        },
        "id": "Mt1XcUeLrrX5",
        "outputId": "941f3dc6-7fa4-4e40-88a6-48ce22b71176"
      },
      "execution_count": 4,
      "outputs": [
        {
          "output_type": "execute_result",
          "data": {
            "text/plain": [
              "      report_date                       load_time       load_type  \\\n",
              "26152  2021-03-01  2021-03-01 11:26:00.000000 UTC        ORGANICS   \n",
              "26153  2021-03-01  2021-03-01 04:27:00.000000 UTC        ORGANICS   \n",
              "26154  2021-03-01  2021-03-01 05:55:00.000000 UTC        ORGANICS   \n",
              "26155  2021-03-01  2021-03-02 01:10:00.000000 UTC        ORGANICS   \n",
              "26156  2021-03-01  2021-03-01 10:22:00.000000 UTC  RECYCLED METAL   \n",
              "\n",
              "       load_weight           dropoff_site  \n",
              "26152      12100.0       ORGANICS BY GOSH  \n",
              "26153      10900.0       ORGANICS BY GOSH  \n",
              "26154      21800.0       ORGANICS BY GOSH  \n",
              "26155       5640.0       ORGANICS BY GOSH  \n",
              "26156        360.0  AUSTIN IRON AND METAL  "
            ],
            "text/html": [
              "\n",
              "  <div id=\"df-b40447f0-66e2-4d98-ba59-0054d4026565\">\n",
              "    <div class=\"colab-df-container\">\n",
              "      <div>\n",
              "<style scoped>\n",
              "    .dataframe tbody tr th:only-of-type {\n",
              "        vertical-align: middle;\n",
              "    }\n",
              "\n",
              "    .dataframe tbody tr th {\n",
              "        vertical-align: top;\n",
              "    }\n",
              "\n",
              "    .dataframe thead th {\n",
              "        text-align: right;\n",
              "    }\n",
              "</style>\n",
              "<table border=\"1\" class=\"dataframe\">\n",
              "  <thead>\n",
              "    <tr style=\"text-align: right;\">\n",
              "      <th></th>\n",
              "      <th>report_date</th>\n",
              "      <th>load_time</th>\n",
              "      <th>load_type</th>\n",
              "      <th>load_weight</th>\n",
              "      <th>dropoff_site</th>\n",
              "    </tr>\n",
              "  </thead>\n",
              "  <tbody>\n",
              "    <tr>\n",
              "      <th>26152</th>\n",
              "      <td>2021-03-01</td>\n",
              "      <td>2021-03-01 11:26:00.000000 UTC</td>\n",
              "      <td>ORGANICS</td>\n",
              "      <td>12100.0</td>\n",
              "      <td>ORGANICS BY GOSH</td>\n",
              "    </tr>\n",
              "    <tr>\n",
              "      <th>26153</th>\n",
              "      <td>2021-03-01</td>\n",
              "      <td>2021-03-01 04:27:00.000000 UTC</td>\n",
              "      <td>ORGANICS</td>\n",
              "      <td>10900.0</td>\n",
              "      <td>ORGANICS BY GOSH</td>\n",
              "    </tr>\n",
              "    <tr>\n",
              "      <th>26154</th>\n",
              "      <td>2021-03-01</td>\n",
              "      <td>2021-03-01 05:55:00.000000 UTC</td>\n",
              "      <td>ORGANICS</td>\n",
              "      <td>21800.0</td>\n",
              "      <td>ORGANICS BY GOSH</td>\n",
              "    </tr>\n",
              "    <tr>\n",
              "      <th>26155</th>\n",
              "      <td>2021-03-01</td>\n",
              "      <td>2021-03-02 01:10:00.000000 UTC</td>\n",
              "      <td>ORGANICS</td>\n",
              "      <td>5640.0</td>\n",
              "      <td>ORGANICS BY GOSH</td>\n",
              "    </tr>\n",
              "    <tr>\n",
              "      <th>26156</th>\n",
              "      <td>2021-03-01</td>\n",
              "      <td>2021-03-01 10:22:00.000000 UTC</td>\n",
              "      <td>RECYCLED METAL</td>\n",
              "      <td>360.0</td>\n",
              "      <td>AUSTIN IRON AND METAL</td>\n",
              "    </tr>\n",
              "  </tbody>\n",
              "</table>\n",
              "</div>\n",
              "      <button class=\"colab-df-convert\" onclick=\"convertToInteractive('df-b40447f0-66e2-4d98-ba59-0054d4026565')\"\n",
              "              title=\"Convert this dataframe to an interactive table.\"\n",
              "              style=\"display:none;\">\n",
              "        \n",
              "  <svg xmlns=\"http://www.w3.org/2000/svg\" height=\"24px\"viewBox=\"0 0 24 24\"\n",
              "       width=\"24px\">\n",
              "    <path d=\"M0 0h24v24H0V0z\" fill=\"none\"/>\n",
              "    <path d=\"M18.56 5.44l.94 2.06.94-2.06 2.06-.94-2.06-.94-.94-2.06-.94 2.06-2.06.94zm-11 1L8.5 8.5l.94-2.06 2.06-.94-2.06-.94L8.5 2.5l-.94 2.06-2.06.94zm10 10l.94 2.06.94-2.06 2.06-.94-2.06-.94-.94-2.06-.94 2.06-2.06.94z\"/><path d=\"M17.41 7.96l-1.37-1.37c-.4-.4-.92-.59-1.43-.59-.52 0-1.04.2-1.43.59L10.3 9.45l-7.72 7.72c-.78.78-.78 2.05 0 2.83L4 21.41c.39.39.9.59 1.41.59.51 0 1.02-.2 1.41-.59l7.78-7.78 2.81-2.81c.8-.78.8-2.07 0-2.86zM5.41 20L4 18.59l7.72-7.72 1.47 1.35L5.41 20z\"/>\n",
              "  </svg>\n",
              "      </button>\n",
              "      \n",
              "  <style>\n",
              "    .colab-df-container {\n",
              "      display:flex;\n",
              "      flex-wrap:wrap;\n",
              "      gap: 12px;\n",
              "    }\n",
              "\n",
              "    .colab-df-convert {\n",
              "      background-color: #E8F0FE;\n",
              "      border: none;\n",
              "      border-radius: 50%;\n",
              "      cursor: pointer;\n",
              "      display: none;\n",
              "      fill: #1967D2;\n",
              "      height: 32px;\n",
              "      padding: 0 0 0 0;\n",
              "      width: 32px;\n",
              "    }\n",
              "\n",
              "    .colab-df-convert:hover {\n",
              "      background-color: #E2EBFA;\n",
              "      box-shadow: 0px 1px 2px rgba(60, 64, 67, 0.3), 0px 1px 3px 1px rgba(60, 64, 67, 0.15);\n",
              "      fill: #174EA6;\n",
              "    }\n",
              "\n",
              "    [theme=dark] .colab-df-convert {\n",
              "      background-color: #3B4455;\n",
              "      fill: #D2E3FC;\n",
              "    }\n",
              "\n",
              "    [theme=dark] .colab-df-convert:hover {\n",
              "      background-color: #434B5C;\n",
              "      box-shadow: 0px 1px 3px 1px rgba(0, 0, 0, 0.15);\n",
              "      filter: drop-shadow(0px 1px 2px rgba(0, 0, 0, 0.3));\n",
              "      fill: #FFFFFF;\n",
              "    }\n",
              "  </style>\n",
              "\n",
              "      <script>\n",
              "        const buttonEl =\n",
              "          document.querySelector('#df-b40447f0-66e2-4d98-ba59-0054d4026565 button.colab-df-convert');\n",
              "        buttonEl.style.display =\n",
              "          google.colab.kernel.accessAllowed ? 'block' : 'none';\n",
              "\n",
              "        async function convertToInteractive(key) {\n",
              "          const element = document.querySelector('#df-b40447f0-66e2-4d98-ba59-0054d4026565');\n",
              "          const dataTable =\n",
              "            await google.colab.kernel.invokeFunction('convertToInteractive',\n",
              "                                                     [key], {});\n",
              "          if (!dataTable) return;\n",
              "\n",
              "          const docLinkHtml = 'Like what you see? Visit the ' +\n",
              "            '<a target=\"_blank\" href=https://colab.research.google.com/notebooks/data_table.ipynb>data table notebook</a>'\n",
              "            + ' to learn more about interactive tables.';\n",
              "          element.innerHTML = '';\n",
              "          dataTable['output_type'] = 'display_data';\n",
              "          await google.colab.output.renderOutput(dataTable, element);\n",
              "          const docLink = document.createElement('div');\n",
              "          docLink.innerHTML = docLinkHtml;\n",
              "          element.appendChild(docLink);\n",
              "        }\n",
              "      </script>\n",
              "    </div>\n",
              "  </div>\n",
              "  "
            ]
          },
          "metadata": {},
          "execution_count": 4
        }
      ]
    },
    {
      "cell_type": "markdown",
      "source": [
        "#1 memperbaiki missing value"
      ],
      "metadata": {
        "id": "9KeDn9mVuxT_"
      }
    },
    {
      "cell_type": "markdown",
      "source": [
        "sebelum mengolah data lakutan scan missing value terlebih dahulu dan bersihkan missing value nya"
      ],
      "metadata": {
        "id": "IoGrQRlzNl4O"
      }
    },
    {
      "cell_type": "code",
      "source": [
        "df.isnull().sum()"
      ],
      "metadata": {
        "colab": {
          "base_uri": "https://localhost:8080/"
        },
        "id": "miZZXKZQsEN5",
        "outputId": "fa52911c-5375-426f-8359-b5808318f9c7"
      },
      "execution_count": 5,
      "outputs": [
        {
          "output_type": "execute_result",
          "data": {
            "text/plain": [
              "report_date        0\n",
              "load_time          0\n",
              "load_type          0\n",
              "load_weight     1048\n",
              "dropoff_site       0\n",
              "dtype: int64"
            ]
          },
          "metadata": {},
          "execution_count": 5
        }
      ]
    },
    {
      "cell_type": "code",
      "source": [
        "df['load_weight'] = df['load_weight'].fillna(df['load_weight'].median())"
      ],
      "metadata": {
        "id": "7TZSGMPcui4X"
      },
      "execution_count": 6,
      "outputs": []
    },
    {
      "cell_type": "code",
      "source": [
        "df.isnull().sum()"
      ],
      "metadata": {
        "colab": {
          "base_uri": "https://localhost:8080/"
        },
        "id": "2BvVSXQ9ur4T",
        "outputId": "75e50fed-5fcc-4970-e9b1-16cdce44d418"
      },
      "execution_count": 7,
      "outputs": [
        {
          "output_type": "execute_result",
          "data": {
            "text/plain": [
              "report_date     0\n",
              "load_time       0\n",
              "load_type       0\n",
              "load_weight     0\n",
              "dropoff_site    0\n",
              "dtype: int64"
            ]
          },
          "metadata": {},
          "execution_count": 7
        }
      ]
    },
    {
      "cell_type": "markdown",
      "source": [
        "#2 ekplorasi data"
      ],
      "metadata": {
        "id": "8JmMY_ORv8J8"
      }
    },
    {
      "cell_type": "markdown",
      "source": [
        "Melihat rentang waktu pengambilan data,\n",
        "Ada apa saja tipe load sampah di kota Austin berdasarkan data,\n",
        "Mengetahui tempat pembuangan sampah ada dimana saja"
      ],
      "metadata": {
        "id": "oh78Iuk1N21O"
      }
    },
    {
      "cell_type": "code",
      "source": [
        "df[\"report_date\"].agg((\"min\", \"max\"))"
      ],
      "metadata": {
        "colab": {
          "base_uri": "https://localhost:8080/"
        },
        "id": "3ZSEoMI1G1Ji",
        "outputId": "ec2fcff1-a787-41e4-dda7-78bb64ff2ee7"
      },
      "execution_count": 8,
      "outputs": [
        {
          "output_type": "execute_result",
          "data": {
            "text/plain": [
              "min    2021-01-01\n",
              "max    2021-07-09\n",
              "Name: report_date, dtype: object"
            ]
          },
          "metadata": {},
          "execution_count": 8
        }
      ]
    },
    {
      "cell_type": "code",
      "source": [
        "df.loc[df[\"report_date\"] == \"2021-07-09\", \"load_weight\"].sum()"
      ],
      "metadata": {
        "colab": {
          "base_uri": "https://localhost:8080/"
        },
        "id": "oBD9t6JfOCTv",
        "outputId": "ac37564c-7fdf-4ec2-abff-b2505f0f260e"
      },
      "execution_count": 9,
      "outputs": [
        {
          "output_type": "execute_result",
          "data": {
            "text/plain": [
              "176840.0"
            ]
          },
          "metadata": {},
          "execution_count": 9
        }
      ]
    },
    {
      "cell_type": "code",
      "source": [
        "df.loc[df[\"report_date\"] == \"2021-07-08\", \"load_weight\"].sum()"
      ],
      "metadata": {
        "colab": {
          "base_uri": "https://localhost:8080/"
        },
        "id": "TpbdJ-ciOmMk",
        "outputId": "269d968f-d8ce-435d-9352-fc7e401ab318"
      },
      "execution_count": 10,
      "outputs": [
        {
          "output_type": "execute_result",
          "data": {
            "text/plain": [
              "1541950.0"
            ]
          },
          "metadata": {},
          "execution_count": 10
        }
      ]
    },
    {
      "cell_type": "code",
      "source": [
        "df[\"report_date\"].value_counts()"
      ],
      "metadata": {
        "colab": {
          "base_uri": "https://localhost:8080/"
        },
        "id": "QyeOn7NF3g3r",
        "outputId": "a0de373c-4fee-477e-e65c-e659733111b5"
      },
      "execution_count": 11,
      "outputs": [
        {
          "output_type": "execute_result",
          "data": {
            "text/plain": [
              "2021-02-25    277\n",
              "2021-03-08    273\n",
              "2021-03-22    258\n",
              "2021-02-24    257\n",
              "2021-03-10    256\n",
              "             ... \n",
              "2021-01-30      5\n",
              "2021-01-01      4\n",
              "2021-05-30      1\n",
              "2021-02-07      1\n",
              "2021-04-18      1\n",
              "Name: report_date, Length: 166, dtype: int64"
            ]
          },
          "metadata": {},
          "execution_count": 11
        }
      ]
    },
    {
      "cell_type": "code",
      "source": [
        "df[\"dropoff_site\"].value_counts()"
      ],
      "metadata": {
        "colab": {
          "base_uri": "https://localhost:8080/"
        },
        "id": "lOjSI5VBv6uh",
        "outputId": "ee4c6d32-6522-45c4-e6ef-0a6b2e8a3714"
      },
      "execution_count": 12,
      "outputs": [
        {
          "output_type": "execute_result",
          "data": {
            "text/plain": [
              "TDS LANDFILL             10694\n",
              "ORGANICS BY GOSH          5755\n",
              "BALCONES RECYCLING        3837\n",
              "TDS - MRF                 2948\n",
              "HORNSBY BEND              1655\n",
              "ONION CREEK                813\n",
              "MRF                        168\n",
              "ON ROUTE HIGH DUMP          81\n",
              "PARK CENTER                 75\n",
              "GREAT NORTHERN              70\n",
              "AUSTIN IRON AND METAL       50\n",
              "PARK BEND                    4\n",
              "AUSTIN WOOD RECYCLING        2\n",
              "BALCONES WOODS               1\n",
              "STEINER LANDFILL             1\n",
              "WESTFIELD                    1\n",
              "ST. EDWARDS                  1\n",
              "WILCAB                       1\n",
              "Name: dropoff_site, dtype: int64"
            ]
          },
          "metadata": {},
          "execution_count": 12
        }
      ]
    },
    {
      "cell_type": "code",
      "source": [
        "df[\"load_type\"].value_counts()"
      ],
      "metadata": {
        "colab": {
          "base_uri": "https://localhost:8080/"
        },
        "id": "k8rY8yud3VnR",
        "outputId": "0f14f849-d6e2-43cd-a60d-2319d61a055d"
      },
      "execution_count": 13,
      "outputs": [
        {
          "output_type": "execute_result",
          "data": {
            "text/plain": [
              "GARBAGE COLLECTIONS          8242\n",
              "RECYCLING - SINGLE STREAM    6760\n",
              "ORGANICS                     5763\n",
              "BULK                         1594\n",
              "BRUSH                        1517\n",
              "SWEEPING                     1390\n",
              "MIXED LITTER                  329\n",
              "TIRES                         175\n",
              "DEAD ANIMAL                   150\n",
              "YARD TRIMMING                 137\n",
              "RECYCLED METAL                 57\n",
              "LITTER                         41\n",
              "CONTAMINATED RECYCLING          1\n",
              "CONTAMINATED ORGANICS           1\n",
              "Name: load_type, dtype: int64"
            ]
          },
          "metadata": {},
          "execution_count": 13
        }
      ]
    },
    {
      "cell_type": "markdown",
      "source": [
        "#3 central tendency"
      ],
      "metadata": {
        "id": "S4FAaPAtwmij"
      }
    },
    {
      "cell_type": "markdown",
      "source": [
        "menghitung mode, median, dan mean di seluruh site dan menghitung per site"
      ],
      "metadata": {
        "id": "eTcqqjNVOm3z"
      }
    },
    {
      "cell_type": "code",
      "source": [
        "print ('Min: ' + str(df[\"load_weight\"].min()))\n",
        "print ('Mode: ' + str(df[\"load_weight\"].mode()[0]))\n",
        "print ('Median: ' + str(df[\"load_weight\"].median()))\n",
        "print ('Mean: ' + str(df[\"load_weight\"].mean()))\n",
        "print ('Max: ' + str(df[\"load_weight\"].max()))"
      ],
      "metadata": {
        "colab": {
          "base_uri": "https://localhost:8080/"
        },
        "id": "lSvaXouPOS4T",
        "outputId": "513a330a-310b-45f8-f1d5-5ab6f0c3c9fe"
      },
      "execution_count": 14,
      "outputs": [
        {
          "output_type": "stream",
          "name": "stdout",
          "text": [
            "Min: 0.0\n",
            "Mode: 11300.0\n",
            "Median: 11300.0\n",
            "Mean: 12189.989889490384\n",
            "Max: 245540.0\n"
          ]
        }
      ]
    },
    {
      "cell_type": "markdown",
      "source": [
        "central tedency site park bend"
      ],
      "metadata": {
        "id": "0hiiUEIUOiFH"
      }
    },
    {
      "cell_type": "code",
      "source": [
        "print ('Min: ' + str(df.loc[df[\"dropoff_site\"] == \"PARK BEND\", \"load_weight\"].min()))\n",
        "print ('Mode: ' + str(df.loc[df[\"dropoff_site\"] == \"PARK BEND\", \"load_weight\"].mode()[0]))\n",
        "print ('Median: ' + str(df.loc[df[\"dropoff_site\"] == \"PARK BEND\", \"load_weight\"].median()))\n",
        "print ('Mean: ' + str(df.loc[df[\"dropoff_site\"] == \"PARK BEND\", \"load_weight\"].mean()))\n",
        "print ('Max: ' + str(df.loc[df[\"dropoff_site\"] == \"PARK BEND\", \"load_weight\"].max()))"
      ],
      "metadata": {
        "colab": {
          "base_uri": "https://localhost:8080/"
        },
        "id": "nMLLZG92rYw0",
        "outputId": "f04bafb1-e54b-4398-e212-2741d9519ff7"
      },
      "execution_count": 15,
      "outputs": [
        {
          "output_type": "stream",
          "name": "stdout",
          "text": [
            "Min: 8480.0\n",
            "Mode: 8480.0\n",
            "Median: 12330.0\n",
            "Mean: 13385.0\n",
            "Max: 20400.0\n"
          ]
        }
      ]
    },
    {
      "cell_type": "markdown",
      "source": [
        "central tedency site great notern"
      ],
      "metadata": {
        "id": "gp6n4YQErvg0"
      }
    },
    {
      "cell_type": "code",
      "source": [
        "print ('Min: ' + str(df.loc[df[\"dropoff_site\"] == \"GREAT NORTHERN\", \"load_weight\"].min()))\n",
        "print ('Mode: ' + str(df.loc[df[\"dropoff_site\"] == \"GREAT NORTHERN\", \"load_weight\"].mode()[0]))\n",
        "print ('Median: ' + str(df.loc[df[\"dropoff_site\"] == \"GREAT NORTHERN\", \"load_weight\"].median()))\n",
        "print ('Mean: ' + str(df.loc[df[\"dropoff_site\"] == \"GREAT NORTHERN\", \"load_weight\"].mean()))\n",
        "print ('Max: ' + str(df.loc[df[\"dropoff_site\"] == \"GREAT NORTHERN\", \"load_weight\"].max()))"
      ],
      "metadata": {
        "colab": {
          "base_uri": "https://localhost:8080/"
        },
        "id": "YXEvnCRp1Ig3",
        "outputId": "c1d31cb3-071c-4cd0-bfb0-9b21a1d2b85b"
      },
      "execution_count": 16,
      "outputs": [
        {
          "output_type": "stream",
          "name": "stdout",
          "text": [
            "Min: 8700.0\n",
            "Mode: 11300.0\n",
            "Median: 11300.0\n",
            "Mean: 11973.142857142857\n",
            "Max: 24880.0\n"
          ]
        }
      ]
    },
    {
      "cell_type": "code",
      "source": [
        "print ('Min: ' + str(df.loc[df[\"dropoff_site\"] == \"TDS LANDFILL\", \"load_weight\"].min()))\n",
        "print ('Mode: ' + str(df.loc[df[\"dropoff_site\"] == \"TDS LANDFILL\", \"load_weight\"].mode()[0]))\n",
        "print ('Median: ' + str(df.loc[df[\"dropoff_site\"] == \"TDS LANDFILL\", \"load_weight\"].median()))\n",
        "print ('Mean: ' + str(df.loc[df[\"dropoff_site\"] == \"TDS LANDFILL\", \"load_weight\"].mean()))\n",
        "print ('Max: ' + str(df.loc[df[\"dropoff_site\"] == \"TDS LANDFILL\", \"load_weight\"].max()))"
      ],
      "metadata": {
        "colab": {
          "base_uri": "https://localhost:8080/"
        },
        "id": "u4cX311pQA5H",
        "outputId": "d74fb67f-a91d-4484-ec0e-c15915660163"
      },
      "execution_count": 17,
      "outputs": [
        {
          "output_type": "stream",
          "name": "stdout",
          "text": [
            "Min: 0.0\n",
            "Mode: 20.0\n",
            "Median: 14920.0\n",
            "Mean: 15168.321726145503\n",
            "Max: 245540.0\n"
          ]
        }
      ]
    },
    {
      "cell_type": "markdown",
      "source": [
        "perbandingan load weight di great northrn dan park bend tidak terlalu jauh berbeda dengan tds landfill load weight disana sangat tinggi yaitu mencapai max 245540"
      ],
      "metadata": {
        "id": "c5VNfM0FP1hN"
      }
    },
    {
      "cell_type": "markdown",
      "source": [
        "#4 site great notern"
      ],
      "metadata": {
        "id": "Gdvvlx4k7DrG"
      }
    },
    {
      "cell_type": "markdown",
      "source": [
        "menarik perhatian saya karena jumlah drop off nya tidak terlalu banyak dan tidak terlalu sedikit jadi agak mudah untuk mengolah datanya"
      ],
      "metadata": {
        "id": "WGKKrtkT7G-7"
      }
    },
    {
      "cell_type": "markdown",
      "source": [
        "#5 cek outlier pada load_weight"
      ],
      "metadata": {
        "id": "wJ50MY-NHfMR"
      }
    },
    {
      "cell_type": "code",
      "source": [
        "df.loc[df[\"dropoff_site\"] == \"GREAT NORTHERN\", \"load_weight\"].plot(kind='box', title='load_weight', figsize=(10,8))"
      ],
      "metadata": {
        "colab": {
          "base_uri": "https://localhost:8080/",
          "height": 517
        },
        "id": "Wob6ubaVwKT0",
        "outputId": "929b021e-8a28-4953-e0f1-2ef692526ee0"
      },
      "execution_count": 18,
      "outputs": [
        {
          "output_type": "execute_result",
          "data": {
            "text/plain": [
              "<matplotlib.axes._subplots.AxesSubplot at 0x7f83787fb340>"
            ]
          },
          "metadata": {},
          "execution_count": 18
        },
        {
          "output_type": "display_data",
          "data": {
            "text/plain": [
              "<Figure size 720x576 with 1 Axes>"
            ],
            "image/png": "[encoded data removed]"
          },
          "metadata": {
            "needs_background": "light"
          }
        }
      ]
    },
    {
      "cell_type": "markdown",
      "source": [
        "Ada outlier pada kolom load_weight pada site Great nothern"
      ],
      "metadata": {
        "id": "kt9N2zbGPEYr"
      }
    },
    {
      "cell_type": "markdown",
      "source": [
        "karna distribusi nya normal maka kita gunakan metode std"
      ],
      "metadata": {
        "id": "gZaJQ0pJPSlU"
      }
    },
    {
      "cell_type": "code",
      "source": [
        "upper_limit= df.loc[df[\"dropoff_site\"] == \"GREAT NORTHERN\", \"load_weight\"].mean() + 3*df.loc[df[\"dropoff_site\"] == \"GREAT NORTHERN\", \"load_weight\"].std() \n",
        "lower_limit= df.loc[df[\"dropoff_site\"] == \"GREAT NORTHERN\", \"load_weight\"].mean() - 3*df.loc[df[\"dropoff_site\"] == \"GREAT NORTHERN\", \"load_weight\"].std() \n",
        "\n",
        "print(upper_limit)\n",
        "print(lower_limit)"
      ],
      "metadata": {
        "colab": {
          "base_uri": "https://localhost:8080/"
        },
        "id": "LMRSgODIPtw_",
        "outputId": "7810c2f6-9502-4675-9eb1-088ef421a68f"
      },
      "execution_count": 19,
      "outputs": [
        {
          "output_type": "stream",
          "name": "stdout",
          "text": [
            "20048.81896483027\n",
            "3897.466749455445\n"
          ]
        }
      ]
    },
    {
      "cell_type": "code",
      "source": [
        "df[df['load_weight'] > upper_limit].shape"
      ],
      "metadata": {
        "colab": {
          "base_uri": "https://localhost:8080/"
        },
        "id": "kPIaQv2088xv",
        "outputId": "20525c93-f126-4d63-b092-884d217f9040"
      },
      "execution_count": 20,
      "outputs": [
        {
          "output_type": "execute_result",
          "data": {
            "text/plain": [
              "(3701, 5)"
            ]
          },
          "metadata": {},
          "execution_count": 20
        }
      ]
    },
    {
      "cell_type": "code",
      "source": [
        "df[df['load_weight'] < lower_limit].shape"
      ],
      "metadata": {
        "id": "MTIRWcIBPsdi",
        "colab": {
          "base_uri": "https://localhost:8080/"
        },
        "outputId": "363f515f-eef5-44e3-f796-7ed4ee6cba5b"
      },
      "execution_count": 21,
      "outputs": [
        {
          "output_type": "execute_result",
          "data": {
            "text/plain": [
              "(2281, 5)"
            ]
          },
          "metadata": {},
          "execution_count": 21
        }
      ]
    },
    {
      "cell_type": "markdown",
      "source": [
        "dibawah merupakan perbandingan central tendency yang telah dikeluarkan outliernya dengan yang belum"
      ],
      "metadata": {
        "id": "MB7WWO_RPbiw"
      }
    },
    {
      "cell_type": "code",
      "source": [
        "data_outlier_avg = df[(df['load_weight'] > upper_limit) | (df['load_weight'] < lower_limit)]\n",
        "data_outlier_avg.describe()"
      ],
      "metadata": {
        "colab": {
          "base_uri": "https://localhost:8080/",
          "height": 300
        },
        "id": "LgmYZ486yKoL",
        "outputId": "7cb7ec28-a226-4798-d76a-47e6ba1e6547"
      },
      "execution_count": 22,
      "outputs": [
        {
          "output_type": "execute_result",
          "data": {
            "text/plain": [
              "         load_weight\n",
              "count    5982.000000\n",
              "mean    15893.188656\n",
              "std     11851.442556\n",
              "min         0.000000\n",
              "25%      3000.000000\n",
              "50%     21350.000000\n",
              "75%     24480.000000\n",
              "max    245540.000000"
            ],
            "text/html": [
              "\n",
              "  <div id=\"df-95653709-f366-4ab3-a091-d87e4d6fffa0\">\n",
              "    <div class=\"colab-df-container\">\n",
              "      <div>\n",
              "<style scoped>\n",
              "    .dataframe tbody tr th:only-of-type {\n",
              "        vertical-align: middle;\n",
              "    }\n",
              "\n",
              "    .dataframe tbody tr th {\n",
              "        vertical-align: top;\n",
              "    }\n",
              "\n",
              "    .dataframe thead th {\n",
              "        text-align: right;\n",
              "    }\n",
              "</style>\n",
              "<table border=\"1\" class=\"dataframe\">\n",
              "  <thead>\n",
              "    <tr style=\"text-align: right;\">\n",
              "      <th></th>\n",
              "      <th>load_weight</th>\n",
              "    </tr>\n",
              "  </thead>\n",
              "  <tbody>\n",
              "    <tr>\n",
              "      <th>count</th>\n",
              "      <td>5982.000000</td>\n",
              "    </tr>\n",
              "    <tr>\n",
              "      <th>mean</th>\n",
              "      <td>15893.188656</td>\n",
              "    </tr>\n",
              "    <tr>\n",
              "      <th>std</th>\n",
              "      <td>11851.442556</td>\n",
              "    </tr>\n",
              "    <tr>\n",
              "      <th>min</th>\n",
              "      <td>0.000000</td>\n",
              "    </tr>\n",
              "    <tr>\n",
              "      <th>25%</th>\n",
              "      <td>3000.000000</td>\n",
              "    </tr>\n",
              "    <tr>\n",
              "      <th>50%</th>\n",
              "      <td>21350.000000</td>\n",
              "    </tr>\n",
              "    <tr>\n",
              "      <th>75%</th>\n",
              "      <td>24480.000000</td>\n",
              "    </tr>\n",
              "    <tr>\n",
              "      <th>max</th>\n",
              "      <td>245540.000000</td>\n",
              "    </tr>\n",
              "  </tbody>\n",
              "</table>\n",
              "</div>\n",
              "      <button class=\"colab-df-convert\" onclick=\"convertToInteractive('df-95653709-f366-4ab3-a091-d87e4d6fffa0')\"\n",
              "              title=\"Convert this dataframe to an interactive table.\"\n",
              "              style=\"display:none;\">\n",
              "        \n",
              "  <svg xmlns=\"http://www.w3.org/2000/svg\" height=\"24px\"viewBox=\"0 0 24 24\"\n",
              "       width=\"24px\">\n",
              "    <path d=\"M0 0h24v24H0V0z\" fill=\"none\"/>\n",
              "    <path d=\"M18.56 5.44l.94 2.06.94-2.06 2.06-.94-2.06-.94-.94-2.06-.94 2.06-2.06.94zm-11 1L8.5 8.5l.94-2.06 2.06-.94-2.06-.94L8.5 2.5l-.94 2.06-2.06.94zm10 10l.94 2.06.94-2.06 2.06-.94-2.06-.94-.94-2.06-.94 2.06-2.06.94z\"/><path d=\"M17.41 7.96l-1.37-1.37c-.4-.4-.92-.59-1.43-.59-.52 0-1.04.2-1.43.59L10.3 9.45l-7.72 7.72c-.78.78-.78 2.05 0 2.83L4 21.41c.39.39.9.59 1.41.59.51 0 1.02-.2 1.41-.59l7.78-7.78 2.81-2.81c.8-.78.8-2.07 0-2.86zM5.41 20L4 18.59l7.72-7.72 1.47 1.35L5.41 20z\"/>\n",
              "  </svg>\n",
              "      </button>\n",
              "      \n",
              "  <style>\n",
              "    .colab-df-container {\n",
              "      display:flex;\n",
              "      flex-wrap:wrap;\n",
              "      gap: 12px;\n",
              "    }\n",
              "\n",
              "    .colab-df-convert {\n",
              "      background-color: #E8F0FE;\n",
              "      border: none;\n",
              "      border-radius: 50%;\n",
              "      cursor: pointer;\n",
              "      display: none;\n",
              "      fill: #1967D2;\n",
              "      height: 32px;\n",
              "      padding: 0 0 0 0;\n",
              "      width: 32px;\n",
              "    }\n",
              "\n",
              "    .colab-df-convert:hover {\n",
              "      background-color: #E2EBFA;\n",
              "      box-shadow: 0px 1px 2px rgba(60, 64, 67, 0.3), 0px 1px 3px 1px rgba(60, 64, 67, 0.15);\n",
              "      fill: #174EA6;\n",
              "    }\n",
              "\n",
              "    [theme=dark] .colab-df-convert {\n",
              "      background-color: #3B4455;\n",
              "      fill: #D2E3FC;\n",
              "    }\n",
              "\n",
              "    [theme=dark] .colab-df-convert:hover {\n",
              "      background-color: #434B5C;\n",
              "      box-shadow: 0px 1px 3px 1px rgba(0, 0, 0, 0.15);\n",
              "      filter: drop-shadow(0px 1px 2px rgba(0, 0, 0, 0.3));\n",
              "      fill: #FFFFFF;\n",
              "    }\n",
              "  </style>\n",
              "\n",
              "      <script>\n",
              "        const buttonEl =\n",
              "          document.querySelector('#df-95653709-f366-4ab3-a091-d87e4d6fffa0 button.colab-df-convert');\n",
              "        buttonEl.style.display =\n",
              "          google.colab.kernel.accessAllowed ? 'block' : 'none';\n",
              "\n",
              "        async function convertToInteractive(key) {\n",
              "          const element = document.querySelector('#df-95653709-f366-4ab3-a091-d87e4d6fffa0');\n",
              "          const dataTable =\n",
              "            await google.colab.kernel.invokeFunction('convertToInteractive',\n",
              "                                                     [key], {});\n",
              "          if (!dataTable) return;\n",
              "\n",
              "          const docLinkHtml = 'Like what you see? Visit the ' +\n",
              "            '<a target=\"_blank\" href=https://colab.research.google.com/notebooks/data_table.ipynb>data table notebook</a>'\n",
              "            + ' to learn more about interactive tables.';\n",
              "          element.innerHTML = '';\n",
              "          dataTable['output_type'] = 'display_data';\n",
              "          await google.colab.output.renderOutput(dataTable, element);\n",
              "          const docLink = document.createElement('div');\n",
              "          docLink.innerHTML = docLinkHtml;\n",
              "          element.appendChild(docLink);\n",
              "        }\n",
              "      </script>\n",
              "    </div>\n",
              "  </div>\n",
              "  "
            ]
          },
          "metadata": {},
          "execution_count": 22
        }
      ]
    },
    {
      "cell_type": "code",
      "source": [
        "df.describe()"
      ],
      "metadata": {
        "colab": {
          "base_uri": "https://localhost:8080/",
          "height": 300
        },
        "id": "9c3yvsGa8gfZ",
        "outputId": "ffac4082-839c-4af4-802c-e759e24f58a5"
      },
      "execution_count": 23,
      "outputs": [
        {
          "output_type": "execute_result",
          "data": {
            "text/plain": [
              "         load_weight\n",
              "count   26157.000000\n",
              "mean    12189.989889\n",
              "std      6993.021349\n",
              "min         0.000000\n",
              "25%      7280.000000\n",
              "50%     11300.000000\n",
              "75%     16060.000000\n",
              "max    245540.000000"
            ],
            "text/html": [
              "\n",
              "  <div id=\"df-4ba1aab8-9d69-46a7-a8fb-333fbc4a4c2c\">\n",
              "    <div class=\"colab-df-container\">\n",
              "      <div>\n",
              "<style scoped>\n",
              "    .dataframe tbody tr th:only-of-type {\n",
              "        vertical-align: middle;\n",
              "    }\n",
              "\n",
              "    .dataframe tbody tr th {\n",
              "        vertical-align: top;\n",
              "    }\n",
              "\n",
              "    .dataframe thead th {\n",
              "        text-align: right;\n",
              "    }\n",
              "</style>\n",
              "<table border=\"1\" class=\"dataframe\">\n",
              "  <thead>\n",
              "    <tr style=\"text-align: right;\">\n",
              "      <th></th>\n",
              "      <th>load_weight</th>\n",
              "    </tr>\n",
              "  </thead>\n",
              "  <tbody>\n",
              "    <tr>\n",
              "      <th>count</th>\n",
              "      <td>26157.000000</td>\n",
              "    </tr>\n",
              "    <tr>\n",
              "      <th>mean</th>\n",
              "      <td>12189.989889</td>\n",
              "    </tr>\n",
              "    <tr>\n",
              "      <th>std</th>\n",
              "      <td>6993.021349</td>\n",
              "    </tr>\n",
              "    <tr>\n",
              "      <th>min</th>\n",
              "      <td>0.000000</td>\n",
              "    </tr>\n",
              "    <tr>\n",
              "      <th>25%</th>\n",
              "      <td>7280.000000</td>\n",
              "    </tr>\n",
              "    <tr>\n",
              "      <th>50%</th>\n",
              "      <td>11300.000000</td>\n",
              "    </tr>\n",
              "    <tr>\n",
              "      <th>75%</th>\n",
              "      <td>16060.000000</td>\n",
              "    </tr>\n",
              "    <tr>\n",
              "      <th>max</th>\n",
              "      <td>245540.000000</td>\n",
              "    </tr>\n",
              "  </tbody>\n",
              "</table>\n",
              "</div>\n",
              "      <button class=\"colab-df-convert\" onclick=\"convertToInteractive('df-4ba1aab8-9d69-46a7-a8fb-333fbc4a4c2c')\"\n",
              "              title=\"Convert this dataframe to an interactive table.\"\n",
              "              style=\"display:none;\">\n",
              "        \n",
              "  <svg xmlns=\"http://www.w3.org/2000/svg\" height=\"24px\"viewBox=\"0 0 24 24\"\n",
              "       width=\"24px\">\n",
              "    <path d=\"M0 0h24v24H0V0z\" fill=\"none\"/>\n",
              "    <path d=\"M18.56 5.44l.94 2.06.94-2.06 2.06-.94-2.06-.94-.94-2.06-.94 2.06-2.06.94zm-11 1L8.5 8.5l.94-2.06 2.06-.94-2.06-.94L8.5 2.5l-.94 2.06-2.06.94zm10 10l.94 2.06.94-2.06 2.06-.94-2.06-.94-.94-2.06-.94 2.06-2.06.94z\"/><path d=\"M17.41 7.96l-1.37-1.37c-.4-.4-.92-.59-1.43-.59-.52 0-1.04.2-1.43.59L10.3 9.45l-7.72 7.72c-.78.78-.78 2.05 0 2.83L4 21.41c.39.39.9.59 1.41.59.51 0 1.02-.2 1.41-.59l7.78-7.78 2.81-2.81c.8-.78.8-2.07 0-2.86zM5.41 20L4 18.59l7.72-7.72 1.47 1.35L5.41 20z\"/>\n",
              "  </svg>\n",
              "      </button>\n",
              "      \n",
              "  <style>\n",
              "    .colab-df-container {\n",
              "      display:flex;\n",
              "      flex-wrap:wrap;\n",
              "      gap: 12px;\n",
              "    }\n",
              "\n",
              "    .colab-df-convert {\n",
              "      background-color: #E8F0FE;\n",
              "      border: none;\n",
              "      border-radius: 50%;\n",
              "      cursor: pointer;\n",
              "      display: none;\n",
              "      fill: #1967D2;\n",
              "      height: 32px;\n",
              "      padding: 0 0 0 0;\n",
              "      width: 32px;\n",
              "    }\n",
              "\n",
              "    .colab-df-convert:hover {\n",
              "      background-color: #E2EBFA;\n",
              "      box-shadow: 0px 1px 2px rgba(60, 64, 67, 0.3), 0px 1px 3px 1px rgba(60, 64, 67, 0.15);\n",
              "      fill: #174EA6;\n",
              "    }\n",
              "\n",
              "    [theme=dark] .colab-df-convert {\n",
              "      background-color: #3B4455;\n",
              "      fill: #D2E3FC;\n",
              "    }\n",
              "\n",
              "    [theme=dark] .colab-df-convert:hover {\n",
              "      background-color: #434B5C;\n",
              "      box-shadow: 0px 1px 3px 1px rgba(0, 0, 0, 0.15);\n",
              "      filter: drop-shadow(0px 1px 2px rgba(0, 0, 0, 0.3));\n",
              "      fill: #FFFFFF;\n",
              "    }\n",
              "  </style>\n",
              "\n",
              "      <script>\n",
              "        const buttonEl =\n",
              "          document.querySelector('#df-4ba1aab8-9d69-46a7-a8fb-333fbc4a4c2c button.colab-df-convert');\n",
              "        buttonEl.style.display =\n",
              "          google.colab.kernel.accessAllowed ? 'block' : 'none';\n",
              "\n",
              "        async function convertToInteractive(key) {\n",
              "          const element = document.querySelector('#df-4ba1aab8-9d69-46a7-a8fb-333fbc4a4c2c');\n",
              "          const dataTable =\n",
              "            await google.colab.kernel.invokeFunction('convertToInteractive',\n",
              "                                                     [key], {});\n",
              "          if (!dataTable) return;\n",
              "\n",
              "          const docLinkHtml = 'Like what you see? Visit the ' +\n",
              "            '<a target=\"_blank\" href=https://colab.research.google.com/notebooks/data_table.ipynb>data table notebook</a>'\n",
              "            + ' to learn more about interactive tables.';\n",
              "          element.innerHTML = '';\n",
              "          dataTable['output_type'] = 'display_data';\n",
              "          await google.colab.output.renderOutput(dataTable, element);\n",
              "          const docLink = document.createElement('div');\n",
              "          docLink.innerHTML = docLinkHtml;\n",
              "          element.appendChild(docLink);\n",
              "        }\n",
              "      </script>\n",
              "    </div>\n",
              "  </div>\n",
              "  "
            ]
          },
          "metadata": {},
          "execution_count": 23
        }
      ]
    },
    {
      "cell_type": "markdown",
      "source": [
        "#6 range, variance, dan standar deviasi"
      ],
      "metadata": {
        "id": "b3YNMlLVQP49"
      }
    },
    {
      "cell_type": "markdown",
      "source": [
        "menghitung range, variance, dan standar deviasi pada site great northern"
      ],
      "metadata": {
        "id": "RtHt2HAIQlFt"
      }
    },
    {
      "cell_type": "code",
      "source": [
        "df.loc[df[\"dropoff_site\"] == \"GREAT NORTHERN\", \"load_weight\"].value_counts()"
      ],
      "metadata": {
        "colab": {
          "base_uri": "https://localhost:8080/"
        },
        "id": "1k_dyLKzQUkI",
        "outputId": "66a2b957-f129-4cc0-99a7-3ae2363273fc"
      },
      "execution_count": 24,
      "outputs": [
        {
          "output_type": "execute_result",
          "data": {
            "text/plain": [
              "11300.0    64\n",
              "17160.0     1\n",
              "20900.0     1\n",
              "21320.0     1\n",
              "21960.0     1\n",
              "24880.0     1\n",
              "8700.0      1\n",
              "Name: load_weight, dtype: int64"
            ]
          },
          "metadata": {},
          "execution_count": 24
        }
      ]
    },
    {
      "cell_type": "markdown",
      "source": [
        "#standar deviasi "
      ],
      "metadata": {
        "id": "fBf7u3omVQdk"
      }
    },
    {
      "cell_type": "code",
      "source": [
        "lw = df.loc[df[\"dropoff_site\"] == \"GREAT NORTHERN\", \"load_weight\"]\n",
        "lw.std()"
      ],
      "metadata": {
        "colab": {
          "base_uri": "https://localhost:8080/"
        },
        "id": "ScdiV0zKSAEJ",
        "outputId": "47393e5f-1e6e-4a21-fbb2-d3e24f738ef8"
      },
      "execution_count": 25,
      "outputs": [
        {
          "output_type": "execute_result",
          "data": {
            "text/plain": [
              "2691.892035895804"
            ]
          },
          "metadata": {},
          "execution_count": 25
        }
      ]
    },
    {
      "cell_type": "markdown",
      "source": [
        "#variance"
      ],
      "metadata": {
        "id": "tXhe04MNVact"
      }
    },
    {
      "cell_type": "code",
      "source": [
        "lw.var()"
      ],
      "metadata": {
        "colab": {
          "base_uri": "https://localhost:8080/"
        },
        "id": "8snhRtX7SlEY",
        "outputId": "75e3d004-e7ea-4413-e69d-3ce93659ebe3"
      },
      "execution_count": 26,
      "outputs": [
        {
          "output_type": "execute_result",
          "data": {
            "text/plain": [
              "7246282.732919255"
            ]
          },
          "metadata": {},
          "execution_count": 26
        }
      ]
    },
    {
      "cell_type": "markdown",
      "source": [
        "#range"
      ],
      "metadata": {
        "id": "y7WbbR8hXvUC"
      }
    },
    {
      "cell_type": "code",
      "source": [
        "min= df.loc[df[\"dropoff_site\"] == \"GREAT NORTHERN\", \"load_weight\"].min()"
      ],
      "metadata": {
        "id": "OHfIY3cJVGa7"
      },
      "execution_count": 27,
      "outputs": []
    },
    {
      "cell_type": "code",
      "source": [
        "max= df.loc[df[\"dropoff_site\"] == \"GREAT NORTHERN\", \"load_weight\"].max()"
      ],
      "metadata": {
        "id": "ovHmesYXXOyu"
      },
      "execution_count": 28,
      "outputs": []
    },
    {
      "cell_type": "code",
      "source": [
        "max-min"
      ],
      "metadata": {
        "colab": {
          "base_uri": "https://localhost:8080/"
        },
        "id": "OJWDqk1cXS3w",
        "outputId": "91f3df8e-a2b5-488c-97fd-9d3e00436614"
      },
      "execution_count": 29,
      "outputs": [
        {
          "output_type": "execute_result",
          "data": {
            "text/plain": [
              "16180.0"
            ]
          },
          "metadata": {},
          "execution_count": 29
        }
      ]
    },
    {
      "cell_type": "markdown",
      "source": [
        "#7 confidence interval"
      ],
      "metadata": {
        "id": "0iuV6sBU_qyl"
      }
    },
    {
      "cell_type": "markdown",
      "source": [
        "menambah site baru berdasarkan perhitungan confidence interval dari seluruh site"
      ],
      "metadata": {
        "id": "lhVzHSmvRMal"
      }
    },
    {
      "cell_type": "code",
      "source": [
        "mixed_litter = df[df['load_type']=='MIXED LITTER']"
      ],
      "metadata": {
        "id": "SONb1g1yNDgb"
      },
      "execution_count": 30,
      "outputs": []
    },
    {
      "cell_type": "code",
      "source": [
        "t_stat,p_val = stats.ttest_1samp(mixed_litter['load_weight'], 2900)\n",
        "\n",
        "print('P-value:',p_val)\n",
        "print('t-statistics:',t_stat)"
      ],
      "metadata": {
        "colab": {
          "base_uri": "https://localhost:8080/"
        },
        "id": "8j42NJSjM_gl",
        "outputId": "6f583a64-8558-472a-909b-27e73dd7ee48"
      },
      "execution_count": 31,
      "outputs": [
        {
          "output_type": "stream",
          "name": "stdout",
          "text": [
            "P-value: 0.001328047794911612\n",
            "t-statistics: 3.237720747970184\n"
          ]
        }
      ]
    },
    {
      "cell_type": "code",
      "source": [
        "pop = np.random.normal(mixed_litter['load_weight'].mean(),mixed_litter['load_weight'].std(), 10000)\n",
        "\n",
        "ci = stats.norm.interval(0.95, mixed_litter['load_weight'].mean(), mixed_litter['load_weight'].std())\n",
        "\n",
        "plt.figure(figsize=(16,5))\n",
        "sns.distplot(pop, label='dropoff_site', color='blue')\n",
        "plt.axvline(mixed_litter['load_weight'].mean(), color='red', linewidth=2, label='dropoff_site (Mean)')\n",
        "\n",
        "plt.axvline(ci[1], color='green', linestyle='dashed', linewidth=2, label='confidence threshold of 95%')\n",
        "plt.axvline(ci[0], color='green', linestyle='dashed', linewidth=2, label='confidence threshold of 95%')\n",
        "\n",
        "plt.axvline(pop.mean() + t_stat*pop.std(), color='black', linestyle='dashed', linewidth=2, label = 'Alternative Hypothesis/p-value')\n",
        "plt.axvline(pop.mean() - t_stat*pop.std(), color='black', linestyle='dashed', linewidth=2)\n",
        "plt.legend()"
      ],
      "metadata": {
        "colab": {
          "base_uri": "https://localhost:8080/",
          "height": 384
        },
        "id": "VSuV6FQC_xdL",
        "outputId": "d0a02933-1b1c-46ae-d9dd-db668ffbebe8"
      },
      "execution_count": 32,
      "outputs": [
        {
          "output_type": "stream",
          "name": "stderr",
          "text": [
            "/usr/local/lib/python3.8/dist-packages/seaborn/distributions.py:2619: FutureWarning: `distplot` is a deprecated function and will be removed in a future version. Please adapt your code to use either `displot` (a figure-level function with similar flexibility) or `histplot` (an axes-level function for histograms).\n",
            "  warnings.warn(msg, FutureWarning)\n"
          ]
        },
        {
          "output_type": "execute_result",
          "data": {
            "text/plain": [
              "<matplotlib.legend.Legend at 0x7f8375fd72e0>"
            ]
          },
          "metadata": {},
          "execution_count": 32
        },
        {
          "output_type": "display_data",
          "data": {
            "text/plain": [
              "<Figure size 1152x360 with 1 Axes>"
            ],
            "image/png": "[encoded data removed]"
          },
          "metadata": {
            "needs_background": "light"
          }
        }
      ]
    },
    {
      "cell_type": "markdown",
      "source": [
        "#8 analisa uji hipotesis"
      ],
      "metadata": {
        "id": "LvW7Y2zLADbh"
      }
    },
    {
      "cell_type": "code",
      "source": [
        "df = pd.read_csv('https://raw.githubusercontent.com/rionmarianto/file_tambahan/main/austin_waste_and_diversion.csv')\n",
        "df.head()"
      ],
      "metadata": {
        "colab": {
          "base_uri": "https://localhost:8080/",
          "height": 206
        },
        "id": "FzbTdCgeAI8t",
        "outputId": "32967e19-29df-42bc-9d0a-5ac1627e3aac"
      },
      "execution_count": 33,
      "outputs": [
        {
          "output_type": "execute_result",
          "data": {
            "text/plain": [
              "  report_date                       load_time load_type  load_weight  \\\n",
              "0  2021-07-08  2021-07-08 12:00:00.000000 UTC     TIRES       2260.0   \n",
              "1  2021-07-08  2021-07-08 11:00:00.000000 UTC     TIRES       1260.0   \n",
              "2  2021-07-08  2021-07-08 03:00:00.000000 UTC     TIRES        800.0   \n",
              "3  2021-05-01  2021-05-01 12:29:00.000000 UTC     TIRES        760.0   \n",
              "4  2021-07-03  2021-07-03 12:09:00.000000 UTC     TIRES       1400.0   \n",
              "\n",
              "  dropoff_site  \n",
              "0          MRF  \n",
              "1          MRF  \n",
              "2          MRF  \n",
              "3          MRF  \n",
              "4          MRF  "
            ],
            "text/html": [
              "\n",
              "  <div id=\"df-32da0c39-e3e1-429d-9d5e-14f7e36bf8a5\">\n",
              "    <div class=\"colab-df-container\">\n",
              "      <div>\n",
              "<style scoped>\n",
              "    .dataframe tbody tr th:only-of-type {\n",
              "        vertical-align: middle;\n",
              "    }\n",
              "\n",
              "    .dataframe tbody tr th {\n",
              "        vertical-align: top;\n",
              "    }\n",
              "\n",
              "    .dataframe thead th {\n",
              "        text-align: right;\n",
              "    }\n",
              "</style>\n",
              "<table border=\"1\" class=\"dataframe\">\n",
              "  <thead>\n",
              "    <tr style=\"text-align: right;\">\n",
              "      <th></th>\n",
              "      <th>report_date</th>\n",
              "      <th>load_time</th>\n",
              "      <th>load_type</th>\n",
              "      <th>load_weight</th>\n",
              "      <th>dropoff_site</th>\n",
              "    </tr>\n",
              "  </thead>\n",
              "  <tbody>\n",
              "    <tr>\n",
              "      <th>0</th>\n",
              "      <td>2021-07-08</td>\n",
              "      <td>2021-07-08 12:00:00.000000 UTC</td>\n",
              "      <td>TIRES</td>\n",
              "      <td>2260.0</td>\n",
              "      <td>MRF</td>\n",
              "    </tr>\n",
              "    <tr>\n",
              "      <th>1</th>\n",
              "      <td>2021-07-08</td>\n",
              "      <td>2021-07-08 11:00:00.000000 UTC</td>\n",
              "      <td>TIRES</td>\n",
              "      <td>1260.0</td>\n",
              "      <td>MRF</td>\n",
              "    </tr>\n",
              "    <tr>\n",
              "      <th>2</th>\n",
              "      <td>2021-07-08</td>\n",
              "      <td>2021-07-08 03:00:00.000000 UTC</td>\n",
              "      <td>TIRES</td>\n",
              "      <td>800.0</td>\n",
              "      <td>MRF</td>\n",
              "    </tr>\n",
              "    <tr>\n",
              "      <th>3</th>\n",
              "      <td>2021-05-01</td>\n",
              "      <td>2021-05-01 12:29:00.000000 UTC</td>\n",
              "      <td>TIRES</td>\n",
              "      <td>760.0</td>\n",
              "      <td>MRF</td>\n",
              "    </tr>\n",
              "    <tr>\n",
              "      <th>4</th>\n",
              "      <td>2021-07-03</td>\n",
              "      <td>2021-07-03 12:09:00.000000 UTC</td>\n",
              "      <td>TIRES</td>\n",
              "      <td>1400.0</td>\n",
              "      <td>MRF</td>\n",
              "    </tr>\n",
              "  </tbody>\n",
              "</table>\n",
              "</div>\n",
              "      <button class=\"colab-df-convert\" onclick=\"convertToInteractive('df-32da0c39-e3e1-429d-9d5e-14f7e36bf8a5')\"\n",
              "              title=\"Convert this dataframe to an interactive table.\"\n",
              "              style=\"display:none;\">\n",
              "        \n",
              "  <svg xmlns=\"http://www.w3.org/2000/svg\" height=\"24px\"viewBox=\"0 0 24 24\"\n",
              "       width=\"24px\">\n",
              "    <path d=\"M0 0h24v24H0V0z\" fill=\"none\"/>\n",
              "    <path d=\"M18.56 5.44l.94 2.06.94-2.06 2.06-.94-2.06-.94-.94-2.06-.94 2.06-2.06.94zm-11 1L8.5 8.5l.94-2.06 2.06-.94-2.06-.94L8.5 2.5l-.94 2.06-2.06.94zm10 10l.94 2.06.94-2.06 2.06-.94-2.06-.94-.94-2.06-.94 2.06-2.06.94z\"/><path d=\"M17.41 7.96l-1.37-1.37c-.4-.4-.92-.59-1.43-.59-.52 0-1.04.2-1.43.59L10.3 9.45l-7.72 7.72c-.78.78-.78 2.05 0 2.83L4 21.41c.39.39.9.59 1.41.59.51 0 1.02-.2 1.41-.59l7.78-7.78 2.81-2.81c.8-.78.8-2.07 0-2.86zM5.41 20L4 18.59l7.72-7.72 1.47 1.35L5.41 20z\"/>\n",
              "  </svg>\n",
              "      </button>\n",
              "      \n",
              "  <style>\n",
              "    .colab-df-container {\n",
              "      display:flex;\n",
              "      flex-wrap:wrap;\n",
              "      gap: 12px;\n",
              "    }\n",
              "\n",
              "    .colab-df-convert {\n",
              "      background-color: #E8F0FE;\n",
              "      border: none;\n",
              "      border-radius: 50%;\n",
              "      cursor: pointer;\n",
              "      display: none;\n",
              "      fill: #1967D2;\n",
              "      height: 32px;\n",
              "      padding: 0 0 0 0;\n",
              "      width: 32px;\n",
              "    }\n",
              "\n",
              "    .colab-df-convert:hover {\n",
              "      background-color: #E2EBFA;\n",
              "      box-shadow: 0px 1px 2px rgba(60, 64, 67, 0.3), 0px 1px 3px 1px rgba(60, 64, 67, 0.15);\n",
              "      fill: #174EA6;\n",
              "    }\n",
              "\n",
              "    [theme=dark] .colab-df-convert {\n",
              "      background-color: #3B4455;\n",
              "      fill: #D2E3FC;\n",
              "    }\n",
              "\n",
              "    [theme=dark] .colab-df-convert:hover {\n",
              "      background-color: #434B5C;\n",
              "      box-shadow: 0px 1px 3px 1px rgba(0, 0, 0, 0.15);\n",
              "      filter: drop-shadow(0px 1px 2px rgba(0, 0, 0, 0.3));\n",
              "      fill: #FFFFFF;\n",
              "    }\n",
              "  </style>\n",
              "\n",
              "      <script>\n",
              "        const buttonEl =\n",
              "          document.querySelector('#df-32da0c39-e3e1-429d-9d5e-14f7e36bf8a5 button.colab-df-convert');\n",
              "        buttonEl.style.display =\n",
              "          google.colab.kernel.accessAllowed ? 'block' : 'none';\n",
              "\n",
              "        async function convertToInteractive(key) {\n",
              "          const element = document.querySelector('#df-32da0c39-e3e1-429d-9d5e-14f7e36bf8a5');\n",
              "          const dataTable =\n",
              "            await google.colab.kernel.invokeFunction('convertToInteractive',\n",
              "                                                     [key], {});\n",
              "          if (!dataTable) return;\n",
              "\n",
              "          const docLinkHtml = 'Like what you see? Visit the ' +\n",
              "            '<a target=\"_blank\" href=https://colab.research.google.com/notebooks/data_table.ipynb>data table notebook</a>'\n",
              "            + ' to learn more about interactive tables.';\n",
              "          element.innerHTML = '';\n",
              "          dataTable['output_type'] = 'display_data';\n",
              "          await google.colab.output.renderOutput(dataTable, element);\n",
              "          const docLink = document.createElement('div');\n",
              "          docLink.innerHTML = docLinkHtml;\n",
              "          element.appendChild(docLink);\n",
              "        }\n",
              "      </script>\n",
              "    </div>\n",
              "  </div>\n",
              "  "
            ]
          },
          "metadata": {},
          "execution_count": 33
        }
      ]
    },
    {
      "cell_type": "markdown",
      "source": [],
      "metadata": {
        "id": "slNeLgEmS606"
      }
    },
    {
      "cell_type": "code",
      "source": [
        "for i in ['load_type', 'dropoff_site']:\n",
        "    print(i, ':')\n",
        "    print(df[i].value_counts())\n",
        "    print('-'*50)"
      ],
      "metadata": {
        "colab": {
          "base_uri": "https://localhost:8080/"
        },
        "id": "CX7tOfLYFk4r",
        "outputId": "d3f0365d-de41-4dc3-bce6-919e8f1f3862"
      },
      "execution_count": 34,
      "outputs": [
        {
          "output_type": "stream",
          "name": "stdout",
          "text": [
            "load_type :\n",
            "GARBAGE COLLECTIONS          8242\n",
            "RECYCLING - SINGLE STREAM    6760\n",
            "ORGANICS                     5763\n",
            "BULK                         1594\n",
            "BRUSH                        1517\n",
            "SWEEPING                     1390\n",
            "MIXED LITTER                  329\n",
            "TIRES                         175\n",
            "DEAD ANIMAL                   150\n",
            "YARD TRIMMING                 137\n",
            "RECYCLED METAL                 57\n",
            "LITTER                         41\n",
            "CONTAMINATED RECYCLING          1\n",
            "CONTAMINATED ORGANICS           1\n",
            "Name: load_type, dtype: int64\n",
            "--------------------------------------------------\n",
            "dropoff_site :\n",
            "TDS LANDFILL             10694\n",
            "ORGANICS BY GOSH          5755\n",
            "BALCONES RECYCLING        3837\n",
            "TDS - MRF                 2948\n",
            "HORNSBY BEND              1655\n",
            "ONION CREEK                813\n",
            "MRF                        168\n",
            "ON ROUTE HIGH DUMP          81\n",
            "PARK CENTER                 75\n",
            "GREAT NORTHERN              70\n",
            "AUSTIN IRON AND METAL       50\n",
            "PARK BEND                    4\n",
            "AUSTIN WOOD RECYCLING        2\n",
            "BALCONES WOODS               1\n",
            "STEINER LANDFILL             1\n",
            "WESTFIELD                    1\n",
            "ST. EDWARDS                  1\n",
            "WILCAB                       1\n",
            "Name: dropoff_site, dtype: int64\n",
            "--------------------------------------------------\n"
          ]
        }
      ]
    },
    {
      "cell_type": "code",
      "source": [
        "df.describe().T"
      ],
      "metadata": {
        "colab": {
          "base_uri": "https://localhost:8080/",
          "height": 81
        },
        "id": "BB2x_SAnGGs3",
        "outputId": "ef0366eb-a212-4865-b653-2562d6d66c41"
      },
      "execution_count": 35,
      "outputs": [
        {
          "output_type": "execute_result",
          "data": {
            "text/plain": [
              "               count          mean          std  min     25%      50%  \\\n",
              "load_weight  25109.0  12227.136307  7135.059565  0.0  7060.0  11300.0   \n",
              "\n",
              "                 75%       max  \n",
              "load_weight  16380.0  245540.0  "
            ],
            "text/html": [
              "\n",
              "  <div id=\"df-eb92efd1-43ff-4a5a-b30f-3b9891abcb79\">\n",
              "    <div class=\"colab-df-container\">\n",
              "      <div>\n",
              "<style scoped>\n",
              "    .dataframe tbody tr th:only-of-type {\n",
              "        vertical-align: middle;\n",
              "    }\n",
              "\n",
              "    .dataframe tbody tr th {\n",
              "        vertical-align: top;\n",
              "    }\n",
              "\n",
              "    .dataframe thead th {\n",
              "        text-align: right;\n",
              "    }\n",
              "</style>\n",
              "<table border=\"1\" class=\"dataframe\">\n",
              "  <thead>\n",
              "    <tr style=\"text-align: right;\">\n",
              "      <th></th>\n",
              "      <th>count</th>\n",
              "      <th>mean</th>\n",
              "      <th>std</th>\n",
              "      <th>min</th>\n",
              "      <th>25%</th>\n",
              "      <th>50%</th>\n",
              "      <th>75%</th>\n",
              "      <th>max</th>\n",
              "    </tr>\n",
              "  </thead>\n",
              "  <tbody>\n",
              "    <tr>\n",
              "      <th>load_weight</th>\n",
              "      <td>25109.0</td>\n",
              "      <td>12227.136307</td>\n",
              "      <td>7135.059565</td>\n",
              "      <td>0.0</td>\n",
              "      <td>7060.0</td>\n",
              "      <td>11300.0</td>\n",
              "      <td>16380.0</td>\n",
              "      <td>245540.0</td>\n",
              "    </tr>\n",
              "  </tbody>\n",
              "</table>\n",
              "</div>\n",
              "      <button class=\"colab-df-convert\" onclick=\"convertToInteractive('df-eb92efd1-43ff-4a5a-b30f-3b9891abcb79')\"\n",
              "              title=\"Convert this dataframe to an interactive table.\"\n",
              "              style=\"display:none;\">\n",
              "        \n",
              "  <svg xmlns=\"http://www.w3.org/2000/svg\" height=\"24px\"viewBox=\"0 0 24 24\"\n",
              "       width=\"24px\">\n",
              "    <path d=\"M0 0h24v24H0V0z\" fill=\"none\"/>\n",
              "    <path d=\"M18.56 5.44l.94 2.06.94-2.06 2.06-.94-2.06-.94-.94-2.06-.94 2.06-2.06.94zm-11 1L8.5 8.5l.94-2.06 2.06-.94-2.06-.94L8.5 2.5l-.94 2.06-2.06.94zm10 10l.94 2.06.94-2.06 2.06-.94-2.06-.94-.94-2.06-.94 2.06-2.06.94z\"/><path d=\"M17.41 7.96l-1.37-1.37c-.4-.4-.92-.59-1.43-.59-.52 0-1.04.2-1.43.59L10.3 9.45l-7.72 7.72c-.78.78-.78 2.05 0 2.83L4 21.41c.39.39.9.59 1.41.59.51 0 1.02-.2 1.41-.59l7.78-7.78 2.81-2.81c.8-.78.8-2.07 0-2.86zM5.41 20L4 18.59l7.72-7.72 1.47 1.35L5.41 20z\"/>\n",
              "  </svg>\n",
              "      </button>\n",
              "      \n",
              "  <style>\n",
              "    .colab-df-container {\n",
              "      display:flex;\n",
              "      flex-wrap:wrap;\n",
              "      gap: 12px;\n",
              "    }\n",
              "\n",
              "    .colab-df-convert {\n",
              "      background-color: #E8F0FE;\n",
              "      border: none;\n",
              "      border-radius: 50%;\n",
              "      cursor: pointer;\n",
              "      display: none;\n",
              "      fill: #1967D2;\n",
              "      height: 32px;\n",
              "      padding: 0 0 0 0;\n",
              "      width: 32px;\n",
              "    }\n",
              "\n",
              "    .colab-df-convert:hover {\n",
              "      background-color: #E2EBFA;\n",
              "      box-shadow: 0px 1px 2px rgba(60, 64, 67, 0.3), 0px 1px 3px 1px rgba(60, 64, 67, 0.15);\n",
              "      fill: #174EA6;\n",
              "    }\n",
              "\n",
              "    [theme=dark] .colab-df-convert {\n",
              "      background-color: #3B4455;\n",
              "      fill: #D2E3FC;\n",
              "    }\n",
              "\n",
              "    [theme=dark] .colab-df-convert:hover {\n",
              "      background-color: #434B5C;\n",
              "      box-shadow: 0px 1px 3px 1px rgba(0, 0, 0, 0.15);\n",
              "      filter: drop-shadow(0px 1px 2px rgba(0, 0, 0, 0.3));\n",
              "      fill: #FFFFFF;\n",
              "    }\n",
              "  </style>\n",
              "\n",
              "      <script>\n",
              "        const buttonEl =\n",
              "          document.querySelector('#df-eb92efd1-43ff-4a5a-b30f-3b9891abcb79 button.colab-df-convert');\n",
              "        buttonEl.style.display =\n",
              "          google.colab.kernel.accessAllowed ? 'block' : 'none';\n",
              "\n",
              "        async function convertToInteractive(key) {\n",
              "          const element = document.querySelector('#df-eb92efd1-43ff-4a5a-b30f-3b9891abcb79');\n",
              "          const dataTable =\n",
              "            await google.colab.kernel.invokeFunction('convertToInteractive',\n",
              "                                                     [key], {});\n",
              "          if (!dataTable) return;\n",
              "\n",
              "          const docLinkHtml = 'Like what you see? Visit the ' +\n",
              "            '<a target=\"_blank\" href=https://colab.research.google.com/notebooks/data_table.ipynb>data table notebook</a>'\n",
              "            + ' to learn more about interactive tables.';\n",
              "          element.innerHTML = '';\n",
              "          dataTable['output_type'] = 'display_data';\n",
              "          await google.colab.output.renderOutput(dataTable, element);\n",
              "          const docLink = document.createElement('div');\n",
              "          docLink.innerHTML = docLinkHtml;\n",
              "          element.appendChild(docLink);\n",
              "        }\n",
              "      </script>\n",
              "    </div>\n",
              "  </div>\n",
              "  "
            ]
          },
          "metadata": {},
          "execution_count": 35
        }
      ]
    },
    {
      "cell_type": "code",
      "source": [
        "mixed_litter = df[df['load_type']=='MIXED LITTER']"
      ],
      "metadata": {
        "id": "aHfgF2W6GwWG"
      },
      "execution_count": 36,
      "outputs": []
    },
    {
      "cell_type": "code",
      "source": [
        "sns.boxplot(data=mixed_litter, y='load_weight')"
      ],
      "metadata": {
        "colab": {
          "base_uri": "https://localhost:8080/",
          "height": 269
        },
        "id": "ClR19NoOGb_E",
        "outputId": "788d5e44-a84d-4f5a-c5a4-fff3af70bd9a"
      },
      "execution_count": 37,
      "outputs": [
        {
          "output_type": "execute_result",
          "data": {
            "text/plain": [
              "<matplotlib.axes._subplots.AxesSubplot at 0x7f83737b6070>"
            ]
          },
          "metadata": {},
          "execution_count": 37
        },
        {
          "output_type": "display_data",
          "data": {
            "text/plain": [
              "<Figure size 432x288 with 1 Axes>"
            ],
            "image/png": "[encoded data removed]"
          },
          "metadata": {
            "needs_background": "light"
          }
        }
      ]
    },
    {
      "cell_type": "code",
      "source": [
        "mixed_litter.head()"
      ],
      "metadata": {
        "colab": {
          "base_uri": "https://localhost:8080/",
          "height": 206
        },
        "id": "i76CmSVqHIbq",
        "outputId": "a751895f-dc7d-46d5-a36f-d89facdefbab"
      },
      "execution_count": 38,
      "outputs": [
        {
          "output_type": "execute_result",
          "data": {
            "text/plain": [
              "    report_date                       load_time     load_type  load_weight  \\\n",
              "592  2021-05-01  2021-05-01 11:14:00.000000 UTC  MIXED LITTER       5060.0   \n",
              "593  2021-05-08  2021-05-08 12:33:00.000000 UTC  MIXED LITTER       4620.0   \n",
              "607  2021-02-21  2021-02-21 12:00:00.000000 UTC  MIXED LITTER       1760.0   \n",
              "612  2021-02-27  2021-02-27 07:02:00.000000 UTC  MIXED LITTER        780.0   \n",
              "613  2021-03-20  2021-03-20 11:25:00.000000 UTC  MIXED LITTER       1920.0   \n",
              "\n",
              "     dropoff_site  \n",
              "592  TDS LANDFILL  \n",
              "593  TDS LANDFILL  \n",
              "607  TDS LANDFILL  \n",
              "612  TDS LANDFILL  \n",
              "613  TDS LANDFILL  "
            ],
            "text/html": [
              "\n",
              "  <div id=\"df-a51ea477-7429-4c12-8cb6-7d11d8b7c592\">\n",
              "    <div class=\"colab-df-container\">\n",
              "      <div>\n",
              "<style scoped>\n",
              "    .dataframe tbody tr th:only-of-type {\n",
              "        vertical-align: middle;\n",
              "    }\n",
              "\n",
              "    .dataframe tbody tr th {\n",
              "        vertical-align: top;\n",
              "    }\n",
              "\n",
              "    .dataframe thead th {\n",
              "        text-align: right;\n",
              "    }\n",
              "</style>\n",
              "<table border=\"1\" class=\"dataframe\">\n",
              "  <thead>\n",
              "    <tr style=\"text-align: right;\">\n",
              "      <th></th>\n",
              "      <th>report_date</th>\n",
              "      <th>load_time</th>\n",
              "      <th>load_type</th>\n",
              "      <th>load_weight</th>\n",
              "      <th>dropoff_site</th>\n",
              "    </tr>\n",
              "  </thead>\n",
              "  <tbody>\n",
              "    <tr>\n",
              "      <th>592</th>\n",
              "      <td>2021-05-01</td>\n",
              "      <td>2021-05-01 11:14:00.000000 UTC</td>\n",
              "      <td>MIXED LITTER</td>\n",
              "      <td>5060.0</td>\n",
              "      <td>TDS LANDFILL</td>\n",
              "    </tr>\n",
              "    <tr>\n",
              "      <th>593</th>\n",
              "      <td>2021-05-08</td>\n",
              "      <td>2021-05-08 12:33:00.000000 UTC</td>\n",
              "      <td>MIXED LITTER</td>\n",
              "      <td>4620.0</td>\n",
              "      <td>TDS LANDFILL</td>\n",
              "    </tr>\n",
              "    <tr>\n",
              "      <th>607</th>\n",
              "      <td>2021-02-21</td>\n",
              "      <td>2021-02-21 12:00:00.000000 UTC</td>\n",
              "      <td>MIXED LITTER</td>\n",
              "      <td>1760.0</td>\n",
              "      <td>TDS LANDFILL</td>\n",
              "    </tr>\n",
              "    <tr>\n",
              "      <th>612</th>\n",
              "      <td>2021-02-27</td>\n",
              "      <td>2021-02-27 07:02:00.000000 UTC</td>\n",
              "      <td>MIXED LITTER</td>\n",
              "      <td>780.0</td>\n",
              "      <td>TDS LANDFILL</td>\n",
              "    </tr>\n",
              "    <tr>\n",
              "      <th>613</th>\n",
              "      <td>2021-03-20</td>\n",
              "      <td>2021-03-20 11:25:00.000000 UTC</td>\n",
              "      <td>MIXED LITTER</td>\n",
              "      <td>1920.0</td>\n",
              "      <td>TDS LANDFILL</td>\n",
              "    </tr>\n",
              "  </tbody>\n",
              "</table>\n",
              "</div>\n",
              "      <button class=\"colab-df-convert\" onclick=\"convertToInteractive('df-a51ea477-7429-4c12-8cb6-7d11d8b7c592')\"\n",
              "              title=\"Convert this dataframe to an interactive table.\"\n",
              "              style=\"display:none;\">\n",
              "        \n",
              "  <svg xmlns=\"http://www.w3.org/2000/svg\" height=\"24px\"viewBox=\"0 0 24 24\"\n",
              "       width=\"24px\">\n",
              "    <path d=\"M0 0h24v24H0V0z\" fill=\"none\"/>\n",
              "    <path d=\"M18.56 5.44l.94 2.06.94-2.06 2.06-.94-2.06-.94-.94-2.06-.94 2.06-2.06.94zm-11 1L8.5 8.5l.94-2.06 2.06-.94-2.06-.94L8.5 2.5l-.94 2.06-2.06.94zm10 10l.94 2.06.94-2.06 2.06-.94-2.06-.94-.94-2.06-.94 2.06-2.06.94z\"/><path d=\"M17.41 7.96l-1.37-1.37c-.4-.4-.92-.59-1.43-.59-.52 0-1.04.2-1.43.59L10.3 9.45l-7.72 7.72c-.78.78-.78 2.05 0 2.83L4 21.41c.39.39.9.59 1.41.59.51 0 1.02-.2 1.41-.59l7.78-7.78 2.81-2.81c.8-.78.8-2.07 0-2.86zM5.41 20L4 18.59l7.72-7.72 1.47 1.35L5.41 20z\"/>\n",
              "  </svg>\n",
              "      </button>\n",
              "      \n",
              "  <style>\n",
              "    .colab-df-container {\n",
              "      display:flex;\n",
              "      flex-wrap:wrap;\n",
              "      gap: 12px;\n",
              "    }\n",
              "\n",
              "    .colab-df-convert {\n",
              "      background-color: #E8F0FE;\n",
              "      border: none;\n",
              "      border-radius: 50%;\n",
              "      cursor: pointer;\n",
              "      display: none;\n",
              "      fill: #1967D2;\n",
              "      height: 32px;\n",
              "      padding: 0 0 0 0;\n",
              "      width: 32px;\n",
              "    }\n",
              "\n",
              "    .colab-df-convert:hover {\n",
              "      background-color: #E2EBFA;\n",
              "      box-shadow: 0px 1px 2px rgba(60, 64, 67, 0.3), 0px 1px 3px 1px rgba(60, 64, 67, 0.15);\n",
              "      fill: #174EA6;\n",
              "    }\n",
              "\n",
              "    [theme=dark] .colab-df-convert {\n",
              "      background-color: #3B4455;\n",
              "      fill: #D2E3FC;\n",
              "    }\n",
              "\n",
              "    [theme=dark] .colab-df-convert:hover {\n",
              "      background-color: #434B5C;\n",
              "      box-shadow: 0px 1px 3px 1px rgba(0, 0, 0, 0.15);\n",
              "      filter: drop-shadow(0px 1px 2px rgba(0, 0, 0, 0.3));\n",
              "      fill: #FFFFFF;\n",
              "    }\n",
              "  </style>\n",
              "\n",
              "      <script>\n",
              "        const buttonEl =\n",
              "          document.querySelector('#df-a51ea477-7429-4c12-8cb6-7d11d8b7c592 button.colab-df-convert');\n",
              "        buttonEl.style.display =\n",
              "          google.colab.kernel.accessAllowed ? 'block' : 'none';\n",
              "\n",
              "        async function convertToInteractive(key) {\n",
              "          const element = document.querySelector('#df-a51ea477-7429-4c12-8cb6-7d11d8b7c592');\n",
              "          const dataTable =\n",
              "            await google.colab.kernel.invokeFunction('convertToInteractive',\n",
              "                                                     [key], {});\n",
              "          if (!dataTable) return;\n",
              "\n",
              "          const docLinkHtml = 'Like what you see? Visit the ' +\n",
              "            '<a target=\"_blank\" href=https://colab.research.google.com/notebooks/data_table.ipynb>data table notebook</a>'\n",
              "            + ' to learn more about interactive tables.';\n",
              "          element.innerHTML = '';\n",
              "          dataTable['output_type'] = 'display_data';\n",
              "          await google.colab.output.renderOutput(dataTable, element);\n",
              "          const docLink = document.createElement('div');\n",
              "          docLink.innerHTML = docLinkHtml;\n",
              "          element.appendChild(docLink);\n",
              "        }\n",
              "      </script>\n",
              "    </div>\n",
              "  </div>\n",
              "  "
            ]
          },
          "metadata": {},
          "execution_count": 38
        }
      ]
    },
    {
      "cell_type": "code",
      "source": [
        "mixed_litter.describe().T"
      ],
      "metadata": {
        "colab": {
          "base_uri": "https://localhost:8080/",
          "height": 81
        },
        "id": "uOk6XaV2HO_g",
        "outputId": "c5c7913b-f4a1-4d4f-91db-7be08e8830ac"
      },
      "execution_count": 39,
      "outputs": [
        {
          "output_type": "execute_result",
          "data": {
            "text/plain": [
              "             count         mean          std  min     25%     50%     75%  \\\n",
              "load_weight  329.0  3196.899696  1663.291291  0.0  1980.0  2900.0  4000.0   \n",
              "\n",
              "                 max  \n",
              "load_weight  10560.0  "
            ],
            "text/html": [
              "\n",
              "  <div id=\"df-f835819a-564b-4867-ac91-3e9f13abeae8\">\n",
              "    <div class=\"colab-df-container\">\n",
              "      <div>\n",
              "<style scoped>\n",
              "    .dataframe tbody tr th:only-of-type {\n",
              "        vertical-align: middle;\n",
              "    }\n",
              "\n",
              "    .dataframe tbody tr th {\n",
              "        vertical-align: top;\n",
              "    }\n",
              "\n",
              "    .dataframe thead th {\n",
              "        text-align: right;\n",
              "    }\n",
              "</style>\n",
              "<table border=\"1\" class=\"dataframe\">\n",
              "  <thead>\n",
              "    <tr style=\"text-align: right;\">\n",
              "      <th></th>\n",
              "      <th>count</th>\n",
              "      <th>mean</th>\n",
              "      <th>std</th>\n",
              "      <th>min</th>\n",
              "      <th>25%</th>\n",
              "      <th>50%</th>\n",
              "      <th>75%</th>\n",
              "      <th>max</th>\n",
              "    </tr>\n",
              "  </thead>\n",
              "  <tbody>\n",
              "    <tr>\n",
              "      <th>load_weight</th>\n",
              "      <td>329.0</td>\n",
              "      <td>3196.899696</td>\n",
              "      <td>1663.291291</td>\n",
              "      <td>0.0</td>\n",
              "      <td>1980.0</td>\n",
              "      <td>2900.0</td>\n",
              "      <td>4000.0</td>\n",
              "      <td>10560.0</td>\n",
              "    </tr>\n",
              "  </tbody>\n",
              "</table>\n",
              "</div>\n",
              "      <button class=\"colab-df-convert\" onclick=\"convertToInteractive('df-f835819a-564b-4867-ac91-3e9f13abeae8')\"\n",
              "              title=\"Convert this dataframe to an interactive table.\"\n",
              "              style=\"display:none;\">\n",
              "        \n",
              "  <svg xmlns=\"http://www.w3.org/2000/svg\" height=\"24px\"viewBox=\"0 0 24 24\"\n",
              "       width=\"24px\">\n",
              "    <path d=\"M0 0h24v24H0V0z\" fill=\"none\"/>\n",
              "    <path d=\"M18.56 5.44l.94 2.06.94-2.06 2.06-.94-2.06-.94-.94-2.06-.94 2.06-2.06.94zm-11 1L8.5 8.5l.94-2.06 2.06-.94-2.06-.94L8.5 2.5l-.94 2.06-2.06.94zm10 10l.94 2.06.94-2.06 2.06-.94-2.06-.94-.94-2.06-.94 2.06-2.06.94z\"/><path d=\"M17.41 7.96l-1.37-1.37c-.4-.4-.92-.59-1.43-.59-.52 0-1.04.2-1.43.59L10.3 9.45l-7.72 7.72c-.78.78-.78 2.05 0 2.83L4 21.41c.39.39.9.59 1.41.59.51 0 1.02-.2 1.41-.59l7.78-7.78 2.81-2.81c.8-.78.8-2.07 0-2.86zM5.41 20L4 18.59l7.72-7.72 1.47 1.35L5.41 20z\"/>\n",
              "  </svg>\n",
              "      </button>\n",
              "      \n",
              "  <style>\n",
              "    .colab-df-container {\n",
              "      display:flex;\n",
              "      flex-wrap:wrap;\n",
              "      gap: 12px;\n",
              "    }\n",
              "\n",
              "    .colab-df-convert {\n",
              "      background-color: #E8F0FE;\n",
              "      border: none;\n",
              "      border-radius: 50%;\n",
              "      cursor: pointer;\n",
              "      display: none;\n",
              "      fill: #1967D2;\n",
              "      height: 32px;\n",
              "      padding: 0 0 0 0;\n",
              "      width: 32px;\n",
              "    }\n",
              "\n",
              "    .colab-df-convert:hover {\n",
              "      background-color: #E2EBFA;\n",
              "      box-shadow: 0px 1px 2px rgba(60, 64, 67, 0.3), 0px 1px 3px 1px rgba(60, 64, 67, 0.15);\n",
              "      fill: #174EA6;\n",
              "    }\n",
              "\n",
              "    [theme=dark] .colab-df-convert {\n",
              "      background-color: #3B4455;\n",
              "      fill: #D2E3FC;\n",
              "    }\n",
              "\n",
              "    [theme=dark] .colab-df-convert:hover {\n",
              "      background-color: #434B5C;\n",
              "      box-shadow: 0px 1px 3px 1px rgba(0, 0, 0, 0.15);\n",
              "      filter: drop-shadow(0px 1px 2px rgba(0, 0, 0, 0.3));\n",
              "      fill: #FFFFFF;\n",
              "    }\n",
              "  </style>\n",
              "\n",
              "      <script>\n",
              "        const buttonEl =\n",
              "          document.querySelector('#df-f835819a-564b-4867-ac91-3e9f13abeae8 button.colab-df-convert');\n",
              "        buttonEl.style.display =\n",
              "          google.colab.kernel.accessAllowed ? 'block' : 'none';\n",
              "\n",
              "        async function convertToInteractive(key) {\n",
              "          const element = document.querySelector('#df-f835819a-564b-4867-ac91-3e9f13abeae8');\n",
              "          const dataTable =\n",
              "            await google.colab.kernel.invokeFunction('convertToInteractive',\n",
              "                                                     [key], {});\n",
              "          if (!dataTable) return;\n",
              "\n",
              "          const docLinkHtml = 'Like what you see? Visit the ' +\n",
              "            '<a target=\"_blank\" href=https://colab.research.google.com/notebooks/data_table.ipynb>data table notebook</a>'\n",
              "            + ' to learn more about interactive tables.';\n",
              "          element.innerHTML = '';\n",
              "          dataTable['output_type'] = 'display_data';\n",
              "          await google.colab.output.renderOutput(dataTable, element);\n",
              "          const docLink = document.createElement('div');\n",
              "          docLink.innerHTML = docLinkHtml;\n",
              "          element.appendChild(docLink);\n",
              "        }\n",
              "      </script>\n",
              "    </div>\n",
              "  </div>\n",
              "  "
            ]
          },
          "metadata": {},
          "execution_count": 39
        }
      ]
    },
    {
      "cell_type": "markdown",
      "source": [
        "load_weight memiliki rata-rata sebesar 3196.89, berdasarkan data tersebut dapat dibuat hipotesis berupa:\n",
        "\n",
        "H0 = Rata-rata load-weight >= 2900, \n",
        "\n",
        "H1 = Rata-rata load-weight < 2900"
      ],
      "metadata": {
        "id": "7OrzBOAUT12R"
      }
    },
    {
      "cell_type": "code",
      "source": [
        "sns.boxplot(data=mixed_litter, y='load_weight')"
      ],
      "metadata": {
        "colab": {
          "base_uri": "https://localhost:8080/",
          "height": 269
        },
        "id": "oDlfeNz_Hg7r",
        "outputId": "788926fb-afb9-422a-e68c-c53535808c67"
      },
      "execution_count": 40,
      "outputs": [
        {
          "output_type": "execute_result",
          "data": {
            "text/plain": [
              "<matplotlib.axes._subplots.AxesSubplot at 0x7f8373760250>"
            ]
          },
          "metadata": {},
          "execution_count": 40
        },
        {
          "output_type": "display_data",
          "data": {
            "text/plain": [
              "<Figure size 432x288 with 1 Axes>"
            ],
            "image/png": "[encoded data removed]"
          },
          "metadata": {
            "needs_background": "light"
          }
        }
      ]
    },
    {
      "cell_type": "code",
      "source": [
        "t_stat,p_val = stats.ttest_1samp(mixed_litter['load_weight'], 2900)\n",
        "\n",
        "print('P-value:',p_val)\n",
        "print('t-statistics:',t_stat)"
      ],
      "metadata": {
        "colab": {
          "base_uri": "https://localhost:8080/"
        },
        "id": "EPC6hUafUvqx",
        "outputId": "f2dc4ca1-cfef-4a78-c707-511d167a2faf"
      },
      "execution_count": 41,
      "outputs": [
        {
          "output_type": "stream",
          "name": "stdout",
          "text": [
            "P-value: 0.001328047794911612\n",
            "t-statistics: 3.237720747970184\n"
          ]
        }
      ]
    },
    {
      "cell_type": "markdown",
      "source": [
        "1. Teknik apa yang kamu pilih untuk handling outlier? jelaskan alasannya!\n",
        "\n",
        "menggunakan teknik std karena distribusi nya masih normal\n",
        "\n",
        "2. Apa konsep dibalik confidence interval sehingga kita dapat menggunakannya untuk menyelesaikan langkah pada nomor 7?\n",
        "\n",
        "untuk menambah site baru berdasarkan perhitungan confidence interval dari seluruh site\n",
        "\n",
        "3. Jelaskan jenis uji hipotesis apa yang kamu terapkan dan mengapa?\n",
        "\n",
        "menggunakan jenis huji hipotesis 1 sample 2 tailed"
      ],
      "metadata": {
        "id": "yW0xRTO_v2v9"
      }
    },
    {
      "cell_type": "markdown",
      "source": [
        "#Problem 2 (Math/Calculus)"
      ],
      "metadata": {
        "id": "rENRU1V-jgtD"
      }
    },
    {
      "cell_type": "code",
      "source": [
        "df.groupby(\"report_date\", sort=True)[\"load_weight\"].sum()"
      ],
      "metadata": {
        "colab": {
          "base_uri": "https://localhost:8080/"
        },
        "id": "uHg8Ba0ejmNH",
        "outputId": "51ef9c76-00cd-4a44-8ea7-d5719e0743d4"
      },
      "execution_count": 42,
      "outputs": [
        {
          "output_type": "execute_result",
          "data": {
            "text/plain": [
              "report_date\n",
              "2021-01-01          0.0\n",
              "2021-01-02    2170130.0\n",
              "2021-01-04    2920260.0\n",
              "2021-01-05    2388540.0\n",
              "2021-01-06    2396550.0\n",
              "                ...    \n",
              "2021-07-05    1897290.0\n",
              "2021-07-06    1921640.0\n",
              "2021-07-07    1553080.0\n",
              "2021-07-08    1417650.0\n",
              "2021-07-09     120340.0\n",
              "Name: load_weight, Length: 166, dtype: float64"
            ]
          },
          "metadata": {},
          "execution_count": 42
        }
      ]
    },
    {
      "cell_type": "markdown",
      "source": [
        "mencari v \n",
        "v=delta(w)/delta(t)=w1-w0/t1-t0\n",
        "t1=9\n",
        "t0=8"
      ],
      "metadata": {
        "id": "HSeJl4dInOF8"
      }
    },
    {
      "cell_type": "code",
      "source": [
        "w1=df.loc[df[\"report_date\"] == \"2021-07-09\", \"load_weight\"].sum()\n",
        "w0=df.loc[df[\"report_date\"] == \"2021-07-08\", \"load_weight\"].sum()\n",
        "t1=9\n",
        "t0=8\n",
        "v=(w1-w0)/(t1-t0)\n",
        "v"
      ],
      "metadata": {
        "colab": {
          "base_uri": "https://localhost:8080/"
        },
        "id": "QwvynB0jlsNv",
        "outputId": "646ddb32-dc84-49ae-8d05-993aa2fe270b"
      },
      "execution_count": 43,
      "outputs": [
        {
          "output_type": "execute_result",
          "data": {
            "text/plain": [
              "-1297310.0"
            ]
          },
          "metadata": {},
          "execution_count": 43
        }
      ]
    },
    {
      "cell_type": "code",
      "source": [
        "deltaT=1\n",
        "w_besok=w1+v*deltaT\n",
        "w_besok"
      ],
      "metadata": {
        "colab": {
          "base_uri": "https://localhost:8080/"
        },
        "id": "pyRlYPc3n-21",
        "outputId": "94bfcad9-58a2-48be-fa59-40791a826bcf"
      },
      "execution_count": 44,
      "outputs": [
        {
          "output_type": "execute_result",
          "data": {
            "text/plain": [
              "-1176970.0"
            ]
          },
          "metadata": {},
          "execution_count": 44
        }
      ]
    },
    {
      "cell_type": "markdown",
      "source": [
        "karena data load_weight pada tgl 9 lebih sedikit dari tgl 8 maka hasilnya minus, coba kita gunakan tgl 8 dan 7 untuk perbandingan\n",
        "\n"
      ],
      "metadata": {
        "id": "PMYj5wpWVVFL"
      }
    },
    {
      "cell_type": "code",
      "source": [
        "w2=df.loc[df[\"report_date\"] == \"2021-07-07\", \"load_weight\"].sum()\n",
        "t2=7\n",
        "v2=(w0-w2)/(t0-t2)\n",
        "v2"
      ],
      "metadata": {
        "colab": {
          "base_uri": "https://localhost:8080/"
        },
        "id": "SL9EyQjWVlBb",
        "outputId": "ba2ba30d-e208-4d2e-9794-80ddde248f7a"
      },
      "execution_count": 45,
      "outputs": [
        {
          "output_type": "execute_result",
          "data": {
            "text/plain": [
              "-135430.0"
            ]
          },
          "metadata": {},
          "execution_count": 45
        }
      ]
    },
    {
      "cell_type": "code",
      "source": [
        "deltaT=1\n",
        "w_besok2=w1+v2*deltaT\n",
        "w_besok2"
      ],
      "metadata": {
        "colab": {
          "base_uri": "https://localhost:8080/"
        },
        "id": "8syo1bY2V7Ca",
        "outputId": "82f3da3d-418e-450e-9a51-b4eb6a25d758"
      },
      "execution_count": 46,
      "outputs": [
        {
          "output_type": "execute_result",
          "data": {
            "text/plain": [
              "-15090.0"
            ]
          },
          "metadata": {},
          "execution_count": 46
        }
      ]
    },
    {
      "cell_type": "markdown",
      "source": [
        "jika menggunakan data tgl 8 dan tgl 7 maka hasil perkiraan load_weigh nya adalah 165710"
      ],
      "metadata": {
        "id": "QjBPlZSRWzma"
      }
    },
    {
      "cell_type": "markdown",
      "source": [
        "1. Untuk menghitung turunan pertama dapat digunakan metode simbolik dan numerik, untuk kasus ini, teknik apa yang kamu gunakan?\n",
        "\n",
        "derivatif\n",
        "\n",
        "2. Apakah kamu membutuhkan fungsi matematis untuk menghitung turunannya?\n",
        "\n",
        "ya, karena w1 dan w0 memiliki hubungan\n",
        "\n",
        "3. Berapa load weight yang kamu perkirakan di hari esok (10 Juli 2021)?\n",
        "\n",
        "165710\n",
        "\n",
        "\n",
        "\n"
      ],
      "metadata": {
        "id": "m0XMHgg4XgM3"
      }
    },
    {
      "cell_type": "markdown",
      "source": [
        "kesimpulan dari analisa diatas ialah dari pengambilan data ditahun 2021 masih terdapat missing value.\n",
        "\n",
        "tempat pembuangan terbanyak terdapat pada site TDS LANDFILL \n",
        "\n",
        "Ada outlier pada kolom load_weight pada site Great nothern\n",
        "\n",
        "karena data load_weight pada tgl 9 lebih sedikit dari tgl 8 dan menghasilkan hasil minus, disini kita mencoba gunakan tgl 8 dan 7 untuk perbandingan dan mendapat hasil 165710 jumlah load_weight untuk hari esok atau tgl 10"
      ],
      "metadata": {
        "id": "nOH2AElmdrio"
      }
    }
  ]
}